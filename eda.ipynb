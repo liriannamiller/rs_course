{
 "cells": [
  {
   "cell_type": "code",
   "execution_count": 63,
   "outputs": [],
   "source": [],
   "metadata": {
    "collapsed": false,
    "pycharm": {
     "name": "#%%\n"
    }
   }
  },
  {
   "cell_type": "markdown",
   "id": "d07912a0",
   "metadata": {},
   "source": [
    "# Context"
   ]
  },
  {
   "cell_type": "markdown",
   "source": [
    "Survival - Выживший:\t0 = Нет, 1 = Да\n",
    "Pclass\t- Класс каюты:\t1 = 1-ый, 2 = 2-ой, 3 = 3-ий\n",
    "Sex\t- Пол\n",
    "Age\t- Возраст в годах\n",
    "Sibsp - Сестры или братья / родственники не на борту Титаника\n",
    "Parch - Родители / дети не на борту Титаника\n",
    "Ticket\t- Номер билета\n",
    "Fare - Стоимость билета\n",
    "Cabin\t- Номер каюты\n",
    "Embarked - Порт посадки:\tC = Cherbourg, Q = Queenstown, S = Southampton\n",
    "\n",
    "Целью данного исследования является выявление признаков, влияющих на выживаемость пассажиров.\n",
    "\n",
    "Предположительно, на выживаемость оказывают влияние такие признаки как:\n",
    "- пол,\n",
    "- возраст,\n",
    "- класс каюты,\n",
    "- наличие родителей/детей за пределами корабля."
   ],
   "metadata": {
    "collapsed": false,
    "pycharm": {
     "name": "#%% md\n"
    }
   }
  },
  {
   "cell_type": "markdown",
   "id": "9b4320c6",
   "metadata": {},
   "source": [
    "# Data quality assessment"
   ]
  },
  {
   "cell_type": "code",
   "execution_count": 64,
   "id": "e443ca82",
   "metadata": {},
   "outputs": [],
   "source": [
    "import pandas as pd\n",
    "import numpy as np\n",
    "import seaborn as sns\n",
    "import matplotlib.pyplot as plt"
   ]
  },
  {
   "cell_type": "code",
   "execution_count": 115,
   "outputs": [
    {
     "name": "stdout",
     "output_type": "stream",
     "text": [
      "<class 'pandas.core.frame.DataFrame'>\n",
      "RangeIndex: 100000 entries, 0 to 99999\n",
      "Data columns (total 12 columns):\n",
      " #   Column       Non-Null Count   Dtype  \n",
      "---  ------       --------------   -----  \n",
      " 0   PassengerId  100000 non-null  int64  \n",
      " 1   Survived     100000 non-null  int64  \n",
      " 2   Pclass       100000 non-null  int64  \n",
      " 3   Name         100000 non-null  object \n",
      " 4   Sex          100000 non-null  object \n",
      " 5   Age          96708 non-null   float64\n",
      " 6   SibSp        100000 non-null  int64  \n",
      " 7   Parch        100000 non-null  int64  \n",
      " 8   Ticket       95377 non-null   object \n",
      " 9   Fare         99866 non-null   float64\n",
      " 10  Cabin        32134 non-null   object \n",
      " 11  Embarked     99750 non-null   object \n",
      "dtypes: float64(2), int64(5), object(5)\n",
      "memory usage: 9.2+ MB\n"
     ]
    }
   ],
   "source": [
    "titanic = pd.read_csv('train.csv', sep=',')\n",
    "titanic.head(10)\n",
    "titanic.info()"
   ],
   "metadata": {
    "collapsed": false,
    "pycharm": {
     "name": "#%%\n"
    }
   }
  },
  {
   "cell_type": "markdown",
   "source": [
    "При рассмотрении данных, можно определить явные переменные, которые не оказывают никакого влияния на полученные результаты. Таким образом сразу можно исключить переменные 'Name' и 'fare'. Так как 'fare' - стоимость билета влияет только на класс каюты пассажира, однако не оказывает влияния на итоговый результат. Номер билета - 'Ticket', место посадки - 'Embarked' также как и номер каюты - 'Cabin', тоже не влияют на выживаемость пассажира.\n",
    "\n",
    "Исключив явные фичи, не влияющие на результат, рассмотрим детальнее имеющиеся данные на наличие пропусков."
   ],
   "metadata": {
    "collapsed": false,
    "pycharm": {
     "name": "#%% md\n"
    }
   }
  },
  {
   "cell_type": "code",
   "execution_count": 66,
   "outputs": [
    {
     "name": "stdout",
     "output_type": "stream",
     "text": [
      "<class 'pandas.core.frame.DataFrame'>\n",
      "RangeIndex: 100000 entries, 0 to 99999\n",
      "Data columns (total 7 columns):\n",
      " #   Column       Non-Null Count   Dtype  \n",
      "---  ------       --------------   -----  \n",
      " 0   PassengerId  100000 non-null  int64  \n",
      " 1   Survived     100000 non-null  int64  \n",
      " 2   Pclass       100000 non-null  int64  \n",
      " 3   Sex          100000 non-null  object \n",
      " 4   Age          96708 non-null   float64\n",
      " 5   SibSp        100000 non-null  int64  \n",
      " 6   Parch        100000 non-null  int64  \n",
      "dtypes: float64(1), int64(5), object(1)\n",
      "memory usage: 5.3+ MB\n"
     ]
    }
   ],
   "source": [
    "titanic_data = titanic.drop(columns=['Name', 'Ticket', 'Fare', 'Cabin', 'Embarked'], axis=1)\n",
    "titanic_data.info()"
   ],
   "metadata": {
    "collapsed": false,
    "pycharm": {
     "name": "#%%\n"
    }
   }
  },
  {
   "cell_type": "markdown",
   "id": "5408eca5",
   "metadata": {},
   "source": [
    "# Data exploration"
   ]
  },
  {
   "cell_type": "markdown",
   "source": [
    "Из полученной информации видно, что значения Age, имеет некоторое количество пропусков, которые следует либо исключить, либо заполнить средним значением. Я предпочту второй вариант. Для этого сначала заполним пропуски 0, а затем определим для каждого из полов количество выживших и погибших.\n"
   ],
   "metadata": {
    "collapsed": false,
    "pycharm": {
     "name": "#%% md\n"
    }
   }
  },
  {
   "cell_type": "code",
   "execution_count": 67,
   "outputs": [
    {
     "name": "stdout",
     "output_type": "stream",
     "text": [
      "          Survived\n",
      "Survived          \n",
      "0             1517\n",
      "1              390\n",
      "          Survived\n",
      "Survived          \n",
      "0              419\n",
      "1              966\n"
     ]
    }
   ],
   "source": [
    "titanic_data = titanic_data.fillna(0)\n",
    "\n",
    "male_survived = titanic_data.loc[(titanic_data['Age']==0.00) & (titanic_data['Sex']=='male')].groupby('Survived').agg({'Survived': 'count'})\n",
    "print(male_survived)\n",
    "female_survived = titanic_data.loc[(titanic_data['Age']==0.00) & (titanic_data['Sex']=='female')].groupby('Survived').agg({'Survived': 'count'})\n",
    "print(female_survived)"
   ],
   "metadata": {
    "collapsed": false,
    "pycharm": {
     "name": "#%%\n"
    }
   }
  },
  {
   "cell_type": "markdown",
   "source": [
    "Можно заметить, что среди мужчин с пропущенным значением возраста преобладает количество погибших, у женщин же - обратная ситуация. Таким образом, пропущенные значения возраста мужчин можно заполнить средним значением возраста погибших мужчин, а у женщин - средним значением возраста выживших женщин."
   ],
   "metadata": {
    "collapsed": false,
    "pycharm": {
     "name": "#%% md\n"
    }
   }
  },
  {
   "cell_type": "code",
   "source": [
    "mean_fem_age = round(titanic_data.loc[(titanic_data['Survived']==1) & (titanic_data['Sex']=='female') & (titanic_data['Age'] != 0.00)].Age.mean(), 2)\n",
    "print(mean_fem_age)\n",
    "\n",
    "mean_man_age = round(titanic_data.loc[(titanic_data['Survived']==0) & (titanic_data['Sex']=='male') & (titanic_data['Age'] != 0.00)].Age.mean(), 2)\n",
    "print(mean_man_age)"
   ],
   "metadata": {
    "collapsed": false,
    "pycharm": {
     "name": "#%%\n"
    }
   },
   "execution_count": 68,
   "outputs": [
    {
     "name": "stdout",
     "output_type": "stream",
     "text": [
      "41.27\n",
      "36.62\n"
     ]
    }
   ]
  },
  {
   "cell_type": "markdown",
   "source": [
    "Теперь заполним пропущенные значения мужчин и женщин полученными значениями."
   ],
   "metadata": {
    "collapsed": false,
    "pycharm": {
     "name": "#%% md\n"
    }
   }
  },
  {
   "cell_type": "code",
   "execution_count": 69,
   "outputs": [],
   "source": [
    "titanic_data.loc[(titanic_data['Sex'] == 'male') & (titanic_data['Age'] == 0.00), 'Age'] = 36.62\n",
    "titanic_data.loc[(titanic_data['Sex'] == 'female') & (titanic_data['Age'] == 0.00), 'Age'] = 41.27"
   ],
   "metadata": {
    "collapsed": false,
    "pycharm": {
     "name": "#%%\n"
    }
   }
  },
  {
   "cell_type": "markdown",
   "source": [
    " Для того, чтобы определить, являются ли данные переменные значимыми, построим тепловую карту, отражающую корреляцию переменных.\n",
    "Так как данный тип графиков применим только для числовых переменных, следует заменить категориальные значения на числовые. Таким образом, в графе Sex, изменим значение male - 0, female - 1."
   ],
   "metadata": {
    "collapsed": false,
    "pycharm": {
     "name": "#%% md\n"
    }
   }
  },
  {
   "cell_type": "code",
   "execution_count": 114,
   "outputs": [
    {
     "data": {
      "text/plain": "<AxesSubplot:>"
     },
     "execution_count": 114,
     "metadata": {},
     "output_type": "execute_result"
    },
    {
     "data": {
      "text/plain": "<Figure size 1080x576 with 2 Axes>",
      "image/png": "[encoded data removed]"
     },
     "metadata": {
      "needs_background": "light"
     },
     "output_type": "display_data"
    }
   ],
   "source": [
    "titanic_data['Sex'] = titanic_data['Sex'].replace({'male': 0, 'female': 1})\n",
    "plt.figure(figsize = (15,8))\n",
    "sns.heatmap(titanic_data.corr(), annot=True)"
   ],
   "metadata": {
    "collapsed": false,
    "pycharm": {
     "name": "#%%\n"
    }
   }
  },
  {
   "cell_type": "markdown",
   "source": [
    "Исходя из полученных данных, можно сделать выводы,что наиболее коррелирующими признаками в данном датасете являются Survived и Sex, далее следует Survived и Age.\n",
    "Отрицательно коррелированны:\n",
    "- Pclass и Survived.\n",
    "\n",
    "Поэтому, для того, чтобы детальнее рассмотреть предположение о том, что в первую очередь уровень выживаемости зависел от пола пассажира, построим график."
   ],
   "metadata": {
    "collapsed": false,
    "pycharm": {
     "name": "#%% md\n"
    }
   }
  },
  {
   "cell_type": "code",
   "execution_count": 71,
   "outputs": [
    {
     "data": {
      "text/plain": "<AxesSubplot:xlabel='Sex', ylabel='Survived'>"
     },
     "execution_count": 71,
     "metadata": {},
     "output_type": "execute_result"
    },
    {
     "data": {
      "text/plain": "<Figure size 432x288 with 1 Axes>",
      "image/png": "[encoded data removed]"
     },
     "metadata": {
      "needs_background": "light"
     },
     "output_type": "display_data"
    }
   ],
   "source": [
    "sns.barplot(x='Sex', y='Survived', data=titanic_data)"
   ],
   "metadata": {
    "collapsed": false,
    "pycharm": {
     "name": "#%%\n"
    }
   }
  },
  {
   "cell_type": "markdown",
   "source": [
    "Таким образом можно сделать вывод, что среди всех пассажиров Титаника, женщин действительно выжило больше, чем мужчин.\n",
    "\n",
    "Перед тем как рассмотреть зависит ли выживаемость от возраста пассажира, посмотрим на количество пассажиров определенного возраста."
   ],
   "metadata": {
    "collapsed": false,
    "pycharm": {
     "name": "#%% md\n"
    }
   }
  },
  {
   "cell_type": "code",
   "execution_count": 72,
   "outputs": [
    {
     "data": {
      "text/plain": "<seaborn.axisgrid.FacetGrid at 0x245ada7fd60>"
     },
     "execution_count": 72,
     "metadata": {},
     "output_type": "execute_result"
    },
    {
     "data": {
      "text/plain": "<Figure size 360x360 with 1 Axes>",
      "image/png": "[encoded data removed]"
     },
     "metadata": {
      "needs_background": "light"
     },
     "output_type": "display_data"
    }
   ],
   "source": [
    "sns.displot(titanic_data['Age'])"
   ],
   "metadata": {
    "collapsed": false,
    "pycharm": {
     "name": "#%%\n"
    }
   }
  },
  {
   "cell_type": "markdown",
   "source": [
    "Из полученных результатов можно сделать вывод, что либо большинство пассажиров Титаника были в возрасте 23-25 лет, либо данный столбец является выбросом. Однако таких столбцов на полученном графике - 13.\n",
    "\n",
    "Далее проверим, зависит ли выжил пассажир или нет от его возраста."
   ],
   "metadata": {
    "collapsed": false,
    "pycharm": {
     "name": "#%% md\n"
    }
   }
  },
  {
   "cell_type": "code",
   "execution_count": 117,
   "id": "2417286d",
   "metadata": {},
   "outputs": [
    {
     "data": {
      "text/plain": "<AxesSubplot:xlabel='Survived', ylabel='Age'>"
     },
     "execution_count": 117,
     "metadata": {},
     "output_type": "execute_result"
    },
    {
     "data": {
      "text/plain": "<Figure size 432x288 with 1 Axes>",
      "image/png": "[encoded data removed]"
     },
     "metadata": {
      "needs_background": "light"
     },
     "output_type": "display_data"
    }
   ],
   "source": [
    "sns.boxplot(x=titanic_data['Survived'], y=titanic_data['Age'])"
   ]
  },
  {
   "cell_type": "markdown",
   "source": [
    "На графике видно, что преимущественно остались в живых более взрослые пассажиры корабля."
   ],
   "metadata": {
    "collapsed": false,
    "pycharm": {
     "name": "#%% md\n"
    }
   }
  },
  {
   "cell_type": "code",
   "execution_count": 74,
   "outputs": [
    {
     "data": {
      "text/plain": "<AxesSubplot:xlabel='Pclass', ylabel='Age'>"
     },
     "execution_count": 74,
     "metadata": {},
     "output_type": "execute_result"
    },
    {
     "data": {
      "text/plain": "<Figure size 432x288 with 1 Axes>",
      "image/png": "[encoded data removed]"
     },
     "metadata": {
      "needs_background": "light"
     },
     "output_type": "display_data"
    }
   ],
   "source": [
    "sns.boxplot(x=titanic_data['Pclass'], y=titanic_data['Age'])"
   ],
   "metadata": {
    "collapsed": false,
    "pycharm": {
     "name": "#%%\n"
    }
   }
  },
  {
   "cell_type": "markdown",
   "source": [
    "Теперь проверим корреляцию между классом каюты и количеством выживших пассажиров."
   ],
   "metadata": {
    "collapsed": false,
    "pycharm": {
     "name": "#%% md\n"
    }
   }
  },
  {
   "cell_type": "code",
   "execution_count": 75,
   "outputs": [
    {
     "data": {
      "text/plain": "<AxesSubplot:xlabel='Pclass', ylabel='Survived'>"
     },
     "execution_count": 75,
     "metadata": {},
     "output_type": "execute_result"
    },
    {
     "data": {
      "text/plain": "<Figure size 432x288 with 1 Axes>",
      "image/png": "[encoded data removed]"
     },
     "metadata": {
      "needs_background": "light"
     },
     "output_type": "display_data"
    }
   ],
   "source": [
    "sns.barplot(x=titanic_data['Pclass'], y=titanic_data['Survived'])"
   ],
   "metadata": {
    "collapsed": false,
    "pycharm": {
     "name": "#%%\n"
    }
   }
  },
  {
   "cell_type": "markdown",
   "source": [
    "Среди выживших оказалось большинство пассажиров 1 и 2 класса, в то время, как большинство пассажиров 3 класса погибли. Для большей достоверности можно подсчитать точное количество выживших в зависимости от класса."
   ],
   "metadata": {
    "collapsed": false,
    "pycharm": {
     "name": "#%% md\n"
    }
   }
  },
  {
   "cell_type": "code",
   "execution_count": 76,
   "outputs": [
    {
     "name": "stdout",
     "output_type": "stream",
     "text": [
      "        Survived\n",
      "Pclass          \n",
      "1          17576\n",
      "2          15057\n",
      "3          10141\n"
     ]
    }
   ],
   "source": [
    "pclass_survived = titanic_data.loc[titanic_data['Survived'] == 1].groupby('Pclass').agg({'Survived': 'count'})\n",
    "print(pclass_survived)"
   ],
   "metadata": {
    "collapsed": false,
    "pycharm": {
     "name": "#%%\n"
    }
   }
  },
  {
   "cell_type": "markdown",
   "source": [
    "Теперь посмотрим сколько пассажиров имело определенное количество родственников, не находящихся на борту корабля, и повлияло ли это каким-то образом на то, выжил этот пассажир или нет."
   ],
   "metadata": {
    "collapsed": false,
    "pycharm": {
     "name": "#%% md\n"
    }
   }
  },
  {
   "cell_type": "code",
   "execution_count": 104,
   "outputs": [
    {
     "name": "stdout",
     "output_type": "stream",
     "text": [
      "   Parch  Passenger\n",
      "0      0      73540\n",
      "1      1      12996\n",
      "2      2      11236\n",
      "3      3        983\n",
      "4      4        446\n",
      "5      5        331\n",
      "6      6        204\n",
      "7      9        264\n"
     ]
    },
    {
     "data": {
      "text/plain": "<Figure size 432x288 with 1 Axes>",
      "image/png": "[encoded data removed]"
     },
     "metadata": {
      "needs_background": "light"
     },
     "output_type": "display_data"
    }
   ],
   "source": [
    "parch = titanic_data.groupby('Parch').agg({'Parch': 'count'}).rename(columns={'Parch': 'Passenger'}).reset_index()\n",
    "sns.barplot(y='Passenger', x='Parch', data=parch)\n",
    "print(parch)"
   ],
   "metadata": {
    "collapsed": false,
    "pycharm": {
     "name": "#%%\n"
    }
   }
  },
  {
   "cell_type": "markdown",
   "source": [
    "Большинство пассажиров не имело ни родителей, ни детей за пределами Титаника."
   ],
   "metadata": {
    "collapsed": false,
    "pycharm": {
     "name": "#%% md\n"
    }
   }
  },
  {
   "cell_type": "code",
   "execution_count": 113,
   "outputs": [
    {
     "data": {
      "text/plain": "<AxesSubplot:xlabel='Parch', ylabel='Survived'>"
     },
     "execution_count": 113,
     "metadata": {},
     "output_type": "execute_result"
    },
    {
     "data": {
      "text/plain": "<Figure size 432x288 with 1 Axes>",
      "image/png": "[encoded data removed]"
     },
     "metadata": {
      "needs_background": "light"
     },
     "output_type": "display_data"
    }
   ],
   "source": [
    "sns.barplot(x=parch['Parch'], y=titanic_data['Survived'])"
   ],
   "metadata": {
    "collapsed": false,
    "pycharm": {
     "name": "#%%\n"
    }
   }
  },
  {
   "cell_type": "markdown",
   "source": [
    "В основном среди выживших оказались люди не имеющие детей и родственников, либо имеющие 4/9 человек. Также, основываясь на слабой корреляции - 0.023 можно сделать вывод, что наличие родственников/детей вне корабля, не оказывает влияния на то, выжил ли данный пассажир или нет."
   ],
   "metadata": {
    "collapsed": false,
    "pycharm": {
     "name": "#%% md\n"
    }
   }
  },
  {
   "cell_type": "markdown",
   "id": "034945c8",
   "metadata": {
    "pycharm": {
     "name": "#%% md\n"
    }
   },
   "source": [
    "# Summary"
   ]
  },
  {
   "cell_type": "markdown",
   "source": [
    "В результате проведенного разведочного анализа данных были доказаны такие гипотезы, как:\n",
    "- влияние пола на выживаемость пассажира,\n",
    "- влияние возраста на выживаемость пассажира,\n",
    "- влияние класса каюты на выживаемость пассажира,\n",
    "- влияние возраста на класс каюты пассажира. Более взрослые пассажиры ехали 1 классом.\n",
    "- влияние наличия родителей / детей за пределами корабля на выживаемость пассажира.\n",
    "\n",
    "Также были исключены фичи, не оказывающие влияния на результаты анализа (Ticket, Cabin, Embarked, Fare, Name). После рассмотрения данных, было выявлено, что параметр Age имеет некоторое количество пропусков. Для заполнения пропусков было определно выжил или погиб данный пассажир, в зависимости от его пола. В результате анализа мы получили данные, указывающие, что большинство мужчин, у которых возраст не был указан - погибли, а большинство женщин - выжили. Далее был высчитан средний возраст погибших мужчин и средний возраст выживших женщин. Данными значениями были заполнены пропуски в возрасте.\n",
    "\n",
    "Для изучения корреляции данных была построена тепловая карта, результатами которой является положительная корреляция между фичами:\n",
    "- Survived - Sex (0.51)\n",
    "- Survived - Age (0.1)\n",
    "- Survived - Parch (0.023)\n",
    "\n",
    "И отрицательная корреляция:\n",
    "- Survived - Pclass (-0.29)\n",
    "\n",
    "При детальном рассмотрении влияния пола пассажира на его выживаемость, было выявлено, что среди всех выживших пассажиров, большинство оказалось женщинами. Что доказывает 1 выдвинутую гипотезу.\n",
    "\n",
    "Далее была построена гистограмма, с целью рассмотреть количество пассажиров в каждой возрастной категории. Полученные данные говорят, что среди пассажиров преобладали молодые люди возрастом 23-25 лет. Чтобы определить, оказывает ли возраст влияние на то, выжил ли данный человек или нет, был построен Boxplot, на котором мы можем увидеть, что среди выживших оказалось большинство пассажиров в возрасте от 25 до 50 лет. Таким образом была доказана 2 гипотеза.\n",
    "\n",
    "Для определения влияния класса каюты пассажира на его жизнь, так же был построен Boxplot, из которого можно сделать вывод, что большинство выживших пассажиров плыло 1-ым классом, что оказывается вполне логичным, зная причину гибели Титаника.  Была доказана 3 выдвинутая гипотеза.\n",
    "\n",
    "Так как возраст пассажира и класс каюты влияют на то, выживет он или нет, было логичным определить возраст пассажиров, купивших билет в тот или иной класс. Полученные результаты говорят о том, что среди людей, ехавших первым классов большинство находятся в возрастных границах 38-58 лет.\n",
    "\n",
    "Так как слабая корреляция была выявлена между фичами Survived и Parch, было решено проверить их зависимость. Для этого сначала мы определили пассажиров, имевших то или иное количество родителей/детей, не находящихся на борту корабля. Большинство пассажиров не имело ни тех, ни других, либо плыли семьями, что также можно теоретически предположить. Далее, рассмотрев влияние наличия родственников вне корабля на выживаемость, увидели, что среди выживших большинство либо не имело родственников, либо имело 4/9 членов семьи вне корабля. Отсюда можно сделать вывод, что наличие родителей или детей не оказало влияния на выживаемость пассажира.\n",
    "\n",
    "Таким образом, исходя из полученных значений можно сделать вывод, что среди выживших пассажиров большинство было женщинами среднего или пожилого возраста, ехавшими 1 классом."
   ],
   "metadata": {
    "collapsed": false,
    "pycharm": {
     "name": "#%% md\n"
    }
   }
  }
 ],
 "metadata": {
  "kernelspec": {
   "display_name": "Python 3 (ipykernel)",
   "language": "python",
   "name": "python3"
  },
  "language_info": {
   "codemirror_mode": {
    "name": "ipython",
    "version": 3
   },
   "file_extension": ".py",
   "mimetype": "text/x-python",
   "name": "python",
   "nbconvert_exporter": "python",
   "pygments_lexer": "ipython3",
   "version": "3.8.12"
  },
  "toc": {
   "base_numbering": 1,
   "nav_menu": {},
   "number_sections": true,
   "sideBar": true,
   "skip_h1_title": false,
   "title_cell": "Table of Contents",
   "title_sidebar": "Contents",
   "toc_cell": false,
   "toc_position": {},
   "toc_section_display": true,
   "toc_window_display": false
  }
 },
 "nbformat": 4,
 "nbformat_minor": 5
}