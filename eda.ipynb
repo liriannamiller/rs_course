{
 "cells": [
  {
   "cell_type": "code",
   "execution_count": 63,
   "outputs": [],
   "source": [],
   "metadata": {
    "collapsed": false,
    "pycharm": {
     "name": "#%%\n"
    }
   }
  },
  {
   "cell_type": "markdown",
   "id": "d07912a0",
   "metadata": {},
   "source": [
    "# Context"
   ]
  },
  {
   "cell_type": "markdown",
   "source": [
    "Survival - Выживший:\t0 = Нет, 1 = Да\n",
    "Pclass\t- Класс каюты:\t1 = 1-ый, 2 = 2-ой, 3 = 3-ий\n",
    "Sex\t- Пол\n",
    "Age\t- Возраст в годах\n",
    "Sibsp - Сестры или братья / родственники не на борту Титаника\n",
    "Parch - Родители / дети не на борту Титаника\n",
    "Ticket\t- Номер билета\n",
    "Fare - Стоимость билета\n",
    "Cabin\t- Номер каюты\n",
    "Embarked - Порт посадки:\tC = Cherbourg, Q = Queenstown, S = Southampton\n",
    "\n",
    "Целью данного исследования является выявление признаков, влияющих на выживаемость пассажиров.\n",
    "\n",
    "Предположительно, на выживаемость оказывают влияние такие признаки как:\n",
    "- пол,\n",
    "- возраст,\n",
    "- класс каюты,\n",
    "- наличие родителей/детей за пределами корабля.\n",
    "\n",
    "Выдвинутые гипотезы:\n",
    "\n",
    "- влияние пола на выживаемость пассажира,\n",
    "- влияние возраста на выживаемость пассажира,\n",
    "- влияние класса каюты на выживаемость пассажира,\n",
    "- влияние возраста на класс каюты пассажира. Более взрослые пассажиры ехали 1 классом.\n",
    "- влияние наличия родителей / детей за пределами корабля на выживаемость пассажира.\n",
    "- все или большинство младенцев выжили.\n",
    "- все или большинство детей до 15 лет выжили."
   ],
   "metadata": {
    "collapsed": false,
    "pycharm": {
     "name": "#%% md\n"
    }
   }
  },
  {
   "cell_type": "markdown",
   "id": "9b4320c6",
   "metadata": {},
   "source": [
    "# Data quality assessment"
   ]
  },
  {
   "cell_type": "code",
   "execution_count": 2,
   "id": "e443ca82",
   "metadata": {},
   "outputs": [],
   "source": [
    "import pandas as pd\n",
    "import numpy as np\n",
    "import seaborn as sns\n",
    "import matplotlib.pyplot as plt"
   ]
  },
  {
   "cell_type": "code",
   "execution_count": 4,
   "outputs": [
    {
     "data": {
      "text/plain": "   PassengerId  Survived  Pclass               Name     Sex    Age  SibSp  \\\n0            0         1       1   Oconnor, Frankie    male    NaN      2   \n1            1         0       3        Bryan, Drew    male    NaN      0   \n2            2         0       3     Owens, Kenneth    male   0.33      1   \n3            3         0       3      Kramer, James    male  19.00      0   \n4            4         1       3      Bond, Michael    male  25.00      0   \n5            5         0       2  Sassano, Jonathan    male  35.00      0   \n6            6         0       3       Conway, Jose    male   7.00      0   \n7            7         1       3      Werner, Linda  female   6.00      1   \n8            8         0       1   Wardlaw, Michael    male  27.00      2   \n9            9         0       2       Greigo, Rudy    male  66.00      0   \n\n   Parch     Ticket   Fare   Cabin Embarked  \n0      0     209245  27.14  C12239        S  \n1      0      27323  13.35     NaN        S  \n2      2  CA 457703  71.29     NaN        S  \n3      0   A. 10866  13.04     NaN        S  \n4      0     427635   7.76     NaN        S  \n5      0      13363   6.71     NaN        S  \n6      0       A/5    9.77     NaN        S  \n7      2     434426  31.50     NaN        S  \n8      1     474849  73.02   A7253        S  \n9      0       6981   9.14   D2969        C  ",
      "text/html": "<div>\n<style scoped>\n    .dataframe tbody tr th:only-of-type {\n        vertical-align: middle;\n    }\n\n    .dataframe tbody tr th {\n        vertical-align: top;\n    }\n\n    .dataframe thead th {\n        text-align: right;\n    }\n</style>\n<table border=\"1\" class=\"dataframe\">\n  <thead>\n    <tr style=\"text-align: right;\">\n      <th></th>\n      <th>PassengerId</th>\n      <th>Survived</th>\n      <th>Pclass</th>\n      <th>Name</th>\n      <th>Sex</th>\n      <th>Age</th>\n      <th>SibSp</th>\n      <th>Parch</th>\n      <th>Ticket</th>\n      <th>Fare</th>\n      <th>Cabin</th>\n      <th>Embarked</th>\n    </tr>\n  </thead>\n  <tbody>\n    <tr>\n      <th>0</th>\n      <td>0</td>\n      <td>1</td>\n      <td>1</td>\n      <td>Oconnor, Frankie</td>\n      <td>male</td>\n      <td>NaN</td>\n      <td>2</td>\n      <td>0</td>\n      <td>209245</td>\n      <td>27.14</td>\n      <td>C12239</td>\n      <td>S</td>\n    </tr>\n    <tr>\n      <th>1</th>\n      <td>1</td>\n      <td>0</td>\n      <td>3</td>\n      <td>Bryan, Drew</td>\n      <td>male</td>\n      <td>NaN</td>\n      <td>0</td>\n      <td>0</td>\n      <td>27323</td>\n      <td>13.35</td>\n      <td>NaN</td>\n      <td>S</td>\n    </tr>\n    <tr>\n      <th>2</th>\n      <td>2</td>\n      <td>0</td>\n      <td>3</td>\n      <td>Owens, Kenneth</td>\n      <td>male</td>\n      <td>0.33</td>\n      <td>1</td>\n      <td>2</td>\n      <td>CA 457703</td>\n      <td>71.29</td>\n      <td>NaN</td>\n      <td>S</td>\n    </tr>\n    <tr>\n      <th>3</th>\n      <td>3</td>\n      <td>0</td>\n      <td>3</td>\n      <td>Kramer, James</td>\n      <td>male</td>\n      <td>19.00</td>\n      <td>0</td>\n      <td>0</td>\n      <td>A. 10866</td>\n      <td>13.04</td>\n      <td>NaN</td>\n      <td>S</td>\n    </tr>\n    <tr>\n      <th>4</th>\n      <td>4</td>\n      <td>1</td>\n      <td>3</td>\n      <td>Bond, Michael</td>\n      <td>male</td>\n      <td>25.00</td>\n      <td>0</td>\n      <td>0</td>\n      <td>427635</td>\n      <td>7.76</td>\n      <td>NaN</td>\n      <td>S</td>\n    </tr>\n    <tr>\n      <th>5</th>\n      <td>5</td>\n      <td>0</td>\n      <td>2</td>\n      <td>Sassano, Jonathan</td>\n      <td>male</td>\n      <td>35.00</td>\n      <td>0</td>\n      <td>0</td>\n      <td>13363</td>\n      <td>6.71</td>\n      <td>NaN</td>\n      <td>S</td>\n    </tr>\n    <tr>\n      <th>6</th>\n      <td>6</td>\n      <td>0</td>\n      <td>3</td>\n      <td>Conway, Jose</td>\n      <td>male</td>\n      <td>7.00</td>\n      <td>0</td>\n      <td>0</td>\n      <td>A/5</td>\n      <td>9.77</td>\n      <td>NaN</td>\n      <td>S</td>\n    </tr>\n    <tr>\n      <th>7</th>\n      <td>7</td>\n      <td>1</td>\n      <td>3</td>\n      <td>Werner, Linda</td>\n      <td>female</td>\n      <td>6.00</td>\n      <td>1</td>\n      <td>2</td>\n      <td>434426</td>\n      <td>31.50</td>\n      <td>NaN</td>\n      <td>S</td>\n    </tr>\n    <tr>\n      <th>8</th>\n      <td>8</td>\n      <td>0</td>\n      <td>1</td>\n      <td>Wardlaw, Michael</td>\n      <td>male</td>\n      <td>27.00</td>\n      <td>2</td>\n      <td>1</td>\n      <td>474849</td>\n      <td>73.02</td>\n      <td>A7253</td>\n      <td>S</td>\n    </tr>\n    <tr>\n      <th>9</th>\n      <td>9</td>\n      <td>0</td>\n      <td>2</td>\n      <td>Greigo, Rudy</td>\n      <td>male</td>\n      <td>66.00</td>\n      <td>0</td>\n      <td>0</td>\n      <td>6981</td>\n      <td>9.14</td>\n      <td>D2969</td>\n      <td>C</td>\n    </tr>\n  </tbody>\n</table>\n</div>"
     },
     "execution_count": 4,
     "metadata": {},
     "output_type": "execute_result"
    }
   ],
   "source": [
    "titanic = pd.read_csv('train.csv', sep=',')\n",
    "titanic.head(10)"
   ],
   "metadata": {
    "collapsed": false,
    "pycharm": {
     "name": "#%%\n"
    }
   }
  },
  {
   "cell_type": "code",
   "execution_count": 5,
   "outputs": [
    {
     "name": "stdout",
     "output_type": "stream",
     "text": [
      "<class 'pandas.core.frame.DataFrame'>\n",
      "RangeIndex: 100000 entries, 0 to 99999\n",
      "Data columns (total 12 columns):\n",
      " #   Column       Non-Null Count   Dtype  \n",
      "---  ------       --------------   -----  \n",
      " 0   PassengerId  100000 non-null  int64  \n",
      " 1   Survived     100000 non-null  int64  \n",
      " 2   Pclass       100000 non-null  int64  \n",
      " 3   Name         100000 non-null  object \n",
      " 4   Sex          100000 non-null  object \n",
      " 5   Age          96708 non-null   float64\n",
      " 6   SibSp        100000 non-null  int64  \n",
      " 7   Parch        100000 non-null  int64  \n",
      " 8   Ticket       95377 non-null   object \n",
      " 9   Fare         99866 non-null   float64\n",
      " 10  Cabin        32134 non-null   object \n",
      " 11  Embarked     99750 non-null   object \n",
      "dtypes: float64(2), int64(5), object(5)\n",
      "memory usage: 9.2+ MB\n"
     ]
    }
   ],
   "source": [
    "titanic.info()"
   ],
   "metadata": {
    "collapsed": false,
    "pycharm": {
     "name": "#%%\n"
    }
   }
  },
  {
   "cell_type": "markdown",
   "source": [
    "При рассмотрении данных, можно определить явные переменные, которые не оказывают никакого влияния на полученные результаты. Таким образом сразу можно исключить переменные 'Name' и 'fare'. Так как 'fare' - стоимость билета влияет только на класс каюты пассажира, однако не оказывает влияния на итоговый результат. Номер билета - 'Ticket', место посадки - 'Embarked' также как и номер каюты - 'Cabin', тоже не влияют на выживаемость пассажира.\n",
    "\n",
    "Исключив явные фичи, не влияющие на результат, рассмотрим детальнее имеющиеся данные на наличие пропусков."
   ],
   "metadata": {
    "collapsed": false,
    "pycharm": {
     "name": "#%% md\n"
    }
   }
  },
  {
   "cell_type": "code",
   "execution_count": 6,
   "outputs": [
    {
     "name": "stdout",
     "output_type": "stream",
     "text": [
      "<class 'pandas.core.frame.DataFrame'>\n",
      "RangeIndex: 100000 entries, 0 to 99999\n",
      "Data columns (total 7 columns):\n",
      " #   Column       Non-Null Count   Dtype  \n",
      "---  ------       --------------   -----  \n",
      " 0   PassengerId  100000 non-null  int64  \n",
      " 1   Survived     100000 non-null  int64  \n",
      " 2   Pclass       100000 non-null  int64  \n",
      " 3   Sex          100000 non-null  object \n",
      " 4   Age          96708 non-null   float64\n",
      " 5   SibSp        100000 non-null  int64  \n",
      " 6   Parch        100000 non-null  int64  \n",
      "dtypes: float64(1), int64(5), object(1)\n",
      "memory usage: 5.3+ MB\n"
     ]
    }
   ],
   "source": [
    "titanic_data = titanic.drop(columns=['Name', 'Ticket', 'Fare', 'Cabin', 'Embarked'], axis=1)\n",
    "titanic_data.info()"
   ],
   "metadata": {
    "collapsed": false,
    "pycharm": {
     "name": "#%%\n"
    }
   }
  },
  {
   "cell_type": "markdown",
   "id": "5408eca5",
   "metadata": {},
   "source": [
    "# Data exploration"
   ]
  },
  {
   "cell_type": "markdown",
   "source": [
    "Из полученной информации видно, что значения Age, имеет некоторое количество пропусков, которые следует либо исключить, либо заполнить средним значением. Я предпочту второй вариант. Для этого сначала заполним пропуски 0, а затем определим для каждого из полов количество выживших и погибших.\n"
   ],
   "metadata": {
    "collapsed": false,
    "pycharm": {
     "name": "#%% md\n"
    }
   }
  },
  {
   "cell_type": "code",
   "execution_count": 7,
   "outputs": [
    {
     "name": "stdout",
     "output_type": "stream",
     "text": [
      "          Survived\n",
      "Survived          \n",
      "0             1517\n",
      "1              390\n",
      "          Survived\n",
      "Survived          \n",
      "0              419\n",
      "1              966\n"
     ]
    }
   ],
   "source": [
    "titanic_data = titanic_data.fillna(0)\n",
    "\n",
    "male_survived = titanic_data.loc[(titanic_data['Age']==0.00) & (titanic_data['Sex']=='male')].groupby('Survived').agg({'Survived': 'count'})\n",
    "print(male_survived)\n",
    "female_survived = titanic_data.loc[(titanic_data['Age']==0.00) & (titanic_data['Sex']=='female')].groupby('Survived').agg({'Survived': 'count'})\n",
    "print(female_survived)"
   ],
   "metadata": {
    "collapsed": false,
    "pycharm": {
     "name": "#%%\n"
    }
   }
  },
  {
   "cell_type": "markdown",
   "source": [
    "Можно заметить, что среди мужчин с пропущенным значением возраста преобладает количество погибших, у женщин же - обратная ситуация. Таким образом, пропущенные значения возраста мужчин можно заполнить средним значением возраста погибших мужчин, а у женщин - средним значением возраста выживших женщин."
   ],
   "metadata": {
    "collapsed": false,
    "pycharm": {
     "name": "#%% md\n"
    }
   }
  },
  {
   "cell_type": "code",
   "source": [
    "mean_fem_age = round(titanic_data.loc[(titanic_data['Survived']==1) & (titanic_data['Sex']=='female') & (titanic_data['Age'] != 0.00)].Age.mean(), 2)\n",
    "print(mean_fem_age)\n",
    "\n",
    "mean_man_age = round(titanic_data.loc[(titanic_data['Survived']==0) & (titanic_data['Sex']=='male') & (titanic_data['Age'] != 0.00)].Age.mean(), 2)\n",
    "print(mean_man_age)"
   ],
   "metadata": {
    "collapsed": false,
    "pycharm": {
     "name": "#%%\n"
    }
   },
   "execution_count": 8,
   "outputs": [
    {
     "name": "stdout",
     "output_type": "stream",
     "text": [
      "41.27\n",
      "36.62\n"
     ]
    }
   ]
  },
  {
   "cell_type": "markdown",
   "source": [
    "Теперь заполним пропущенные значения мужчин и женщин полученными значениями."
   ],
   "metadata": {
    "collapsed": false,
    "pycharm": {
     "name": "#%% md\n"
    }
   }
  },
  {
   "cell_type": "code",
   "execution_count": 9,
   "outputs": [],
   "source": [
    "titanic_data.loc[(titanic_data['Sex'] == 'male') & (titanic_data['Age'] == 0.00), 'Age'] = 36.62\n",
    "titanic_data.loc[(titanic_data['Sex'] == 'female') & (titanic_data['Age'] == 0.00), 'Age'] = 41.27"
   ],
   "metadata": {
    "collapsed": false,
    "pycharm": {
     "name": "#%%\n"
    }
   }
  },
  {
   "cell_type": "markdown",
   "source": [
    " Для того, чтобы определить, являются ли данные переменные значимыми, построим тепловую карту, отражающую корреляцию переменных.\n",
    "Так как данный тип графиков применим только для числовых переменных, следует заменить категориальные значения на числовые. Таким образом, в графе Sex, изменим значение male - 0, female - 1."
   ],
   "metadata": {
    "collapsed": false,
    "pycharm": {
     "name": "#%% md\n"
    }
   }
  },
  {
   "cell_type": "code",
   "execution_count": 10,
   "outputs": [
    {
     "data": {
      "text/plain": "<AxesSubplot:>"
     },
     "execution_count": 10,
     "metadata": {},
     "output_type": "execute_result"
    },
    {
     "data": {
      "text/plain": "<Figure size 1080x576 with 2 Axes>",
      "image/png": "[encoded data removed]"
     },
     "metadata": {
      "needs_background": "light"
     },
     "output_type": "display_data"
    }
   ],
   "source": [
    "titanic_data['Sex'] = titanic_data['Sex'].replace({'male': 0, 'female': 1})\n",
    "plt.figure(figsize = (15,8))\n",
    "sns.heatmap(titanic_data.corr(), annot=True)"
   ],
   "metadata": {
    "collapsed": false,
    "pycharm": {
     "name": "#%%\n"
    }
   }
  },
  {
   "cell_type": "markdown",
   "source": [
    "Исходя из полученных данных, можно сделать выводы,что наиболее коррелирующими признаками в данном датасете являются Survived и Sex, далее следует Survived и Age.\n",
    "Отрицательно коррелированны:\n",
    "- Pclass и Survived.\n",
    "\n",
    "Поэтому, для того, чтобы детальнее рассмотреть предположение о том, что в первую очередь уровень выживаемости зависел от пола пассажира, построим график."
   ],
   "metadata": {
    "collapsed": false,
    "pycharm": {
     "name": "#%% md\n"
    }
   }
  },
  {
   "cell_type": "code",
   "execution_count": 11,
   "outputs": [
    {
     "data": {
      "text/plain": "<AxesSubplot:xlabel='Sex', ylabel='Survived'>"
     },
     "execution_count": 11,
     "metadata": {},
     "output_type": "execute_result"
    },
    {
     "data": {
      "text/plain": "<Figure size 432x288 with 1 Axes>",
      "image/png": "[encoded data removed]"
     },
     "metadata": {
      "needs_background": "light"
     },
     "output_type": "display_data"
    }
   ],
   "source": [
    "sns.barplot(x='Sex', y='Survived', data=titanic_data)"
   ],
   "metadata": {
    "collapsed": false,
    "pycharm": {
     "name": "#%%\n"
    }
   }
  },
  {
   "cell_type": "markdown",
   "source": [
    "Таким образом можно сделать вывод, что среди всех пассажиров Титаника, женщин действительно выжило больше, чем мужчин.\n",
    "\n",
    "Перед тем как рассмотреть зависит ли выживаемость от возраста пассажира, посмотрим на количество пассажиров определенного возраста."
   ],
   "metadata": {
    "collapsed": false,
    "pycharm": {
     "name": "#%% md\n"
    }
   }
  },
  {
   "cell_type": "code",
   "execution_count": 12,
   "outputs": [
    {
     "data": {
      "text/plain": "<seaborn.axisgrid.FacetGrid at 0x28bd0c402b0>"
     },
     "execution_count": 12,
     "metadata": {},
     "output_type": "execute_result"
    },
    {
     "data": {
      "text/plain": "<Figure size 360x360 with 1 Axes>",
      "image/png": "[encoded data removed]"
     },
     "metadata": {
      "needs_background": "light"
     },
     "output_type": "display_data"
    }
   ],
   "source": [
    "sns.displot(titanic_data['Age'])"
   ],
   "metadata": {
    "collapsed": false,
    "pycharm": {
     "name": "#%%\n"
    }
   }
  },
  {
   "cell_type": "markdown",
   "source": [
    "Из полученных результатов можно сделать вывод, что либо большинство пассажиров Титаника были в возрасте 23-25 лет.\n",
    "\n",
    "Далее проверим, зависит ли выжил пассажир или нет от его возраста."
   ],
   "metadata": {
    "collapsed": false,
    "pycharm": {
     "name": "#%% md\n"
    }
   }
  },
  {
   "cell_type": "code",
   "execution_count": 13,
   "id": "2417286d",
   "metadata": {},
   "outputs": [
    {
     "data": {
      "text/plain": "<AxesSubplot:xlabel='Survived', ylabel='Age'>"
     },
     "execution_count": 13,
     "metadata": {},
     "output_type": "execute_result"
    },
    {
     "data": {
      "text/plain": "<Figure size 432x288 with 1 Axes>",
      "image/png": "[encoded data removed]"
     },
     "metadata": {
      "needs_background": "light"
     },
     "output_type": "display_data"
    }
   ],
   "source": [
    "sns.boxplot(x=titanic_data['Survived'], y=titanic_data['Age'])"
   ]
  },
  {
   "cell_type": "markdown",
   "source": [
    "На графике видно, что преимущественно остались в живых более взрослые пассажиры корабля. Также из предыдущего графика можно заметить, что среди пассажиров было большое количество младенцев, поэтому, зная, какое внимание всегда уделялось детям, будет правильным решение проверить, скольким из них удалось спастись. Предположительно были спасены все младенцы или большинство из них.\n"
   ],
   "metadata": {
    "collapsed": false,
    "pycharm": {
     "name": "#%% md\n"
    }
   }
  },
  {
   "cell_type": "code",
   "execution_count": 17,
   "outputs": [
    {
     "name": "stdout",
     "output_type": "stream",
     "text": [
      "          Survived\n",
      "Survived          \n",
      "0              815\n",
      "1              476\n"
     ]
    }
   ],
   "source": [
    "baby = titanic_data.loc[titanic_data['Age'] <= 1.00].groupby('Survived').agg({'Survived': 'count'})\n",
    "print(baby)"
   ],
   "metadata": {
    "collapsed": false,
    "pycharm": {
     "name": "#%%\n"
    }
   }
  },
  {
   "cell_type": "markdown",
   "source": [
    "Как можно заметить, гипотеза о том, что были спасены все или большинство младенцев опровергнута. Теперь проверим, влиял ли пол ребенка на его выживаемость."
   ],
   "metadata": {
    "collapsed": false,
    "pycharm": {
     "name": "#%% md\n"
    }
   }
  },
  {
   "cell_type": "code",
   "execution_count": 18,
   "outputs": [
    {
     "name": "stdout",
     "output_type": "stream",
     "text": [
      "     Survived\n",
      "Sex          \n",
      "0         671\n",
      "1         620\n"
     ]
    }
   ],
   "source": [
    "baby_sex = titanic_data.loc[titanic_data['Age'] <= 1.00].groupby('Sex').agg({'Survived': 'count'})\n",
    "print(baby_sex)"
   ],
   "metadata": {
    "collapsed": false,
    "pycharm": {
     "name": "#%%\n"
    }
   }
  },
  {
   "cell_type": "markdown",
   "source": [
    "Из полученных результатов следует, что пол младенца не влиял на его выживаемость. Теперь проверим количество выживших детей до 15 лет. Предположительно, также было спасено большинство из них."
   ],
   "metadata": {
    "collapsed": false
   }
  },
  {
   "cell_type": "code",
   "execution_count": 38,
   "outputs": [
    {
     "name": "stdout",
     "output_type": "stream",
     "text": [
      "          Survived\n",
      "Survived          \n",
      "0             5890\n",
      "1             4736\n"
     ]
    }
   ],
   "source": [
    "kids_to_18 = titanic_data.loc[(titanic_data['Age'] > 1.00) & (titanic_data['Age'] < 18.00)].groupby('Survived').agg({'Survived': 'count'})\n",
    "print(kids_to_18)"
   ],
   "metadata": {
    "collapsed": false,
    "pycharm": {
     "name": "#%%\n"
    }
   }
  },
  {
   "cell_type": "markdown",
   "source": [
    "Отсюда можно заметить, что гипотеза о том, что было спасено большинство детей до 15 лет оказалась неверной. Однако, проверим, повлиял ли пол на то, выжил ли ребенок или нет."
   ],
   "metadata": {
    "collapsed": false,
    "pycharm": {
     "name": "#%% md\n"
    }
   }
  },
  {
   "cell_type": "code",
   "execution_count": 39,
   "outputs": [
    {
     "name": "stdout",
     "output_type": "stream",
     "text": [
      "     Survived\n",
      "Sex          \n",
      "0        4682\n",
      "1        5944\n"
     ]
    }
   ],
   "source": [
    "surv_kids_to_18 = titanic_data.loc[(titanic_data['Age'] > 1.00) & (titanic_data['Age'] < 18.00)].groupby('Sex').agg({'Survived': 'count'})\n",
    "print(surv_kids_to_18)"
   ],
   "metadata": {
    "collapsed": false,
    "pycharm": {
     "name": "#%%\n"
    }
   }
  },
  {
   "cell_type": "markdown",
   "source": [
    "Среди выживших детей до 18 лет, большинством оказались девочки. Таким образом еще раз была доказана гипотеза о влиянии пола на жизнь пассажира.\n",
    "\n",
    "Теперь проверим корреляцию между классом каюты и количеством выживших пассажиров."
   ],
   "metadata": {
    "collapsed": false,
    "pycharm": {
     "name": "#%% md\n"
    }
   }
  },
  {
   "cell_type": "code",
   "execution_count": 40,
   "outputs": [
    {
     "data": {
      "text/plain": "<AxesSubplot:xlabel='Pclass', ylabel='Survived'>"
     },
     "execution_count": 40,
     "metadata": {},
     "output_type": "execute_result"
    },
    {
     "data": {
      "text/plain": "<Figure size 432x288 with 1 Axes>",
      "image/png": "[encoded data removed]"
     },
     "metadata": {
      "needs_background": "light"
     },
     "output_type": "display_data"
    }
   ],
   "source": [
    "sns.barplot(x=titanic_data['Pclass'], y=titanic_data['Survived'])"
   ],
   "metadata": {
    "collapsed": false,
    "pycharm": {
     "name": "#%%\n"
    }
   }
  },
  {
   "cell_type": "markdown",
   "source": [
    "Среди выживших оказалось большинство пассажиров 1 и 2 класса, в то время, как большинство пассажиров 3 класса погибли. Для большей достоверности можно подсчитать точное количество выживших в зависимости от класса. Так как нам известно, что выжили в основном более взрослые пассажиры или пассажиры, плывшие 1 клссов, проверим, зависел ли класс от возраста."
   ],
   "metadata": {
    "collapsed": false,
    "pycharm": {
     "name": "#%% md\n"
    }
   }
  },
  {
   "cell_type": "code",
   "execution_count": 41,
   "outputs": [
    {
     "name": "stdout",
     "output_type": "stream",
     "text": [
      "        Survived\n",
      "Pclass          \n",
      "1          17576\n",
      "2          15057\n",
      "3          10141\n"
     ]
    }
   ],
   "source": [
    "pclass_survived = titanic_data.loc[titanic_data['Survived'] == 1].groupby('Pclass').agg({'Survived': 'count'})\n",
    "print(pclass_survived)"
   ],
   "metadata": {
    "collapsed": false,
    "pycharm": {
     "name": "#%%\n"
    }
   }
  },
  {
   "cell_type": "code",
   "execution_count": 42,
   "outputs": [
    {
     "data": {
      "text/plain": "<AxesSubplot:xlabel='Pclass', ylabel='Age'>"
     },
     "execution_count": 42,
     "metadata": {},
     "output_type": "execute_result"
    },
    {
     "data": {
      "text/plain": "<Figure size 432x288 with 1 Axes>",
      "image/png": "[encoded data removed]"
     },
     "metadata": {
      "needs_background": "light"
     },
     "output_type": "display_data"
    }
   ],
   "source": [
    "sns.boxplot(x=titanic_data['Pclass'], y=titanic_data['Age'])"
   ],
   "metadata": {
    "collapsed": false,
    "pycharm": {
     "name": "#%%\n"
    }
   }
  },
  {
   "cell_type": "markdown",
   "source": [
    "Теперь посмотрим сколько пассажиров имело определенное количество родственников, не находящихся на борту корабля, и повлияло ли это каким-то образом на то, выжил этот пассажир или нет."
   ],
   "metadata": {
    "collapsed": false,
    "pycharm": {
     "name": "#%% md\n"
    }
   }
  },
  {
   "cell_type": "code",
   "execution_count": 43,
   "outputs": [
    {
     "name": "stdout",
     "output_type": "stream",
     "text": [
      "   Parch  Passenger\n",
      "0      0      73540\n",
      "1      1      12996\n",
      "2      2      11236\n",
      "3      3        983\n",
      "4      4        446\n",
      "5      5        331\n",
      "6      6        204\n",
      "7      9        264\n"
     ]
    },
    {
     "data": {
      "text/plain": "<Figure size 432x288 with 1 Axes>",
      "image/png": "[encoded data removed]"
     },
     "metadata": {
      "needs_background": "light"
     },
     "output_type": "display_data"
    }
   ],
   "source": [
    "parch = titanic_data.groupby('Parch').agg({'Parch': 'count'}).rename(columns={'Parch': 'Passenger'}).reset_index()\n",
    "sns.barplot(y='Passenger', x='Parch', data=parch)\n",
    "print(parch)"
   ],
   "metadata": {
    "collapsed": false,
    "pycharm": {
     "name": "#%%\n"
    }
   }
  },
  {
   "cell_type": "markdown",
   "source": [
    "Большинство пассажиров не имело ни родителей, ни детей за пределами Титаника."
   ],
   "metadata": {
    "collapsed": false,
    "pycharm": {
     "name": "#%% md\n"
    }
   }
  },
  {
   "cell_type": "code",
   "execution_count": 44,
   "outputs": [
    {
     "data": {
      "text/plain": "<AxesSubplot:xlabel='Parch', ylabel='Survived'>"
     },
     "execution_count": 44,
     "metadata": {},
     "output_type": "execute_result"
    },
    {
     "data": {
      "text/plain": "<Figure size 432x288 with 1 Axes>",
      "image/png": "[encoded data removed]"
     },
     "metadata": {
      "needs_background": "light"
     },
     "output_type": "display_data"
    }
   ],
   "source": [
    "sns.barplot(x=parch['Parch'], y=titanic_data['Survived'])"
   ],
   "metadata": {
    "collapsed": false,
    "pycharm": {
     "name": "#%%\n"
    }
   }
  },
  {
   "cell_type": "markdown",
   "source": [
    "В основном среди выживших оказались люди не имеющие детей и родственников, либо имеющие 4/9 человек. Также, основываясь на слабой корреляции - 0.023 можно сделать вывод, что наличие родственников/детей вне корабля, не оказывает влияния на то, выжил ли данный пассажир или нет."
   ],
   "metadata": {
    "collapsed": false,
    "pycharm": {
     "name": "#%% md\n"
    }
   }
  },
  {
   "cell_type": "code",
   "execution_count": 45,
   "outputs": [
    {
     "name": "stdout",
     "output_type": "stream",
     "text": [
      "12.18\n",
      "87.82\n"
     ]
    }
   ],
   "source": [
    "all_survived = titanic_data.loc[titanic_data['Survived'] == 1].Survived.count()\n",
    "\n",
    "kids_survived = round(titanic_data.loc[(titanic_data['Survived'] == 1) & (titanic_data['Age'] < 18)].Survived.count() * 100 / all_survived, 2)\n",
    "adult_survived = round(titanic_data.loc[(titanic_data['Survived'] == 1) & (titanic_data['Age'] >= 18)].Survived.count() * 100 / all_survived, 2)\n",
    "\n",
    "print(kids_survived)\n",
    "print(adult_survived)"
   ],
   "metadata": {
    "collapsed": false,
    "pycharm": {
     "name": "#%%\n"
    }
   }
  },
  {
   "cell_type": "markdown",
   "id": "034945c8",
   "metadata": {
    "pycharm": {
     "name": "#%% md\n"
    }
   },
   "source": [
    "# Summary"
   ]
  },
  {
   "cell_type": "markdown",
   "source": [],
   "metadata": {
    "collapsed": false,
    "pycharm": {
     "name": "#%% md\n"
    }
   }
  }
 ],
 "metadata": {
  "kernelspec": {
   "display_name": "Python 3 (ipykernel)",
   "language": "python",
   "name": "python3"
  },
  "language_info": {
   "codemirror_mode": {
    "name": "ipython",
    "version": 3
   },
   "file_extension": ".py",
   "mimetype": "text/x-python",
   "name": "python",
   "nbconvert_exporter": "python",
   "pygments_lexer": "ipython3",
   "version": "3.8.12"
  },
  "toc": {
   "base_numbering": 1,
   "nav_menu": {},
   "number_sections": true,
   "sideBar": true,
   "skip_h1_title": false,
   "title_cell": "Table of Contents",
   "title_sidebar": "Contents",
   "toc_cell": false,
   "toc_position": {},
   "toc_section_display": true,
   "toc_window_display": false
  }
 },
 "nbformat": 4,
 "nbformat_minor": 5
}