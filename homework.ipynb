{
 "cells": [
  {
   "cell_type": "code",
   "execution_count": 1,
   "metadata": {},
   "outputs": [],
   "source": [
    "import boruta\n",
    "import numpy as np\n",
    "import pandas as pd\n",
    "import seaborn as sns\n",
    "import matplotlib.pyplot as plt\n",
    "\n",
    "from sklearn.impute import SimpleImputer\n",
    "from sklearn.preprocessing import StandardScaler, MinMaxScaler, OrdinalEncoder, OneHotEncoder\n",
    "from sklearn.decomposition import PCA\n",
    "\n",
    "from sklearn.feature_selection import VarianceThreshold, SelectFromModel, RFECV, SequentialFeatureSelector\n",
    "\n",
    "from sklearn.ensemble import RandomForestClassifier, RandomForestRegressor\n",
    "from sklearn.linear_model import LogisticRegression\n",
    "\n",
    "from sklearn.model_selection import KFold, cross_val_score, train_test_split\n",
    "from sklearn.pipeline import Pipeline, make_pipeline\n",
    "from sklearn.metrics import accuracy_score\n",
    "\n",
    "from sklearn.datasets import make_classification, load_wine, load_breast_cancer, load_diabetes, load_digits"
   ]
  },
  {
   "cell_type": "code",
   "execution_count": 2,
   "metadata": {},
   "outputs": [],
   "source": [
    "plt.style.use('seaborn-darkgrid')"
   ]
  },
  {
   "cell_type": "code",
   "execution_count": 3,
   "metadata": {},
   "outputs": [],
   "source": [
    "def plot_scatter(x, y, auto_scaled=True, title=None, clusters=None):\n",
    "    plt.figure(figsize=(4, 4))\n",
    "    plt.scatter(x, y, c=clusters, cmap='bwr')\n",
    "    \n",
    "    if not auto_scaled:\n",
    "        plt.axis('square')\n",
    "    \n",
    "    plt.grid(True)\n",
    "    plt.title(title)\n",
    "    \n",
    "    plt.show()\n",
    "    \n",
    "def return_X_y(data, target_column):\n",
    "    return data.drop(target_column, axis=1), data[target_column]"
   ]
  },
  {
   "cell_type": "code",
   "execution_count": 10,
   "metadata": {},
   "outputs": [],
   "source": [
    "wine_sklearn = load_wine(as_frame=True)\n",
    "wine_data, wine_labels = wine_sklearn['data'], wine_sklearn['target']"
   ]
  },
  {
   "cell_type": "markdown",
   "metadata": {},
   "source": [
    "# Homework"
   ]
  },
  {
   "cell_type": "markdown",
   "metadata": {},
   "source": [
    "## Exercise  1 - Scaling (2 points)"
   ]
  },
  {
   "cell_type": "markdown",
   "metadata": {},
   "source": [
    "Perform standardization for wine dataset (`wine_data`) using only basic python, numpy and pandas (without using `StandardScaler` and sklearn at all). Implementation of function (or class) that can get dataset as input and return standardized dataset as output is preferrable, but not necessary.\n",
    "\n",
    "Compare you results (output) with `StandardScaler`.\n",
    "\n",
    "**NOTE:**\n",
    "\n",
    "- 1 point for functional version, 2 points for implementing scaling as sklearn pipeline compartible class. \n",
    "- Maximum for the exercise is 2 points.\n"
   ]
  },
  {
   "cell_type": "markdown",
   "metadata": {},
   "source": [
    "### Simple version (1 point)"
   ]
  },
  {
   "cell_type": "code",
   "execution_count": 5,
   "metadata": {},
   "outputs": [],
   "source": [
    "# 1 point\n",
    "def scale(X):\n",
    "    X_scale = (X - X.mean()) / X.std(ddof=0)\n",
    "    return X_scale"
   ]
  },
  {
   "cell_type": "code",
   "execution_count": 6,
   "metadata": {},
   "outputs": [],
   "source": [
    "assert np.allclose(np.array(scale(wine_data)), StandardScaler().fit_transform(wine_data))"
   ]
  },
  {
   "cell_type": "markdown",
   "metadata": {},
   "source": [
    "### Pipeline Version (2 points)"
   ]
  },
  {
   "cell_type": "code",
   "execution_count": 7,
   "metadata": {},
   "outputs": [],
   "source": [
    "# 2 points\n",
    "from sklearn.base import BaseEstimator, TransformerMixin\n",
    "class CustomScaler(BaseEstimator, TransformerMixin):\n",
    "    def __init__(self, columns=None, copy=True, with_mean=True, with_std=True):\n",
    "\n",
    "        self.columns=columns\n",
    "        self.copy=copy\n",
    "        self.with_mean=with_mean\n",
    "        self.with_std=with_std\n",
    "\n",
    "    def fit(self, X, y=None):\n",
    "        self.points = X\n",
    "        self.y = y\n",
    "        self.classes_ = np.unique(y)\n",
    "\n",
    "        return self\n",
    "\n",
    "    def transform(self, X, y=None, copy=None):\n",
    "        if y is None:\n",
    "            return self.fit(X, copy).transform(X)\n",
    "        else:\n",
    "            return self.fit(X, y, copy).transform(X)"
   ]
  },
  {
   "cell_type": "code",
   "execution_count": null,
   "outputs": [],
   "source": [
    "assert np.allclose(CustomScaler().fit_transform(wine_data), StandardScaler().fit_transform(wine_data))"
   ],
   "metadata": {
    "collapsed": false,
    "pycharm": {
     "name": "#%%\n"
    }
   }
  },
  {
   "cell_type": "markdown",
   "metadata": {},
   "source": [
    "## Exercise  2 - Visualization (3 points)"
   ]
  },
  {
   "cell_type": "markdown",
   "metadata": {},
   "source": [
    "As noted earlier, standardization/normalization of data can be crucial for some distance-based ML methods.\n",
    "\n",
    "Let’s generate some toy example of unnormalized data and visualize the importance of this process once more:"
   ]
  },
  {
   "cell_type": "code",
   "execution_count": 11,
   "metadata": {},
   "outputs": [
    {
     "data": {
      "text/plain": "array([[  3.78663968,   1.83709333],\n       [ 19.12362772,   1.1548648 ],\n       [ -2.20620491,  -0.40101702],\n       ...,\n       [ -8.1215777 ,   4.64769094],\n       [  2.7208065 ,   4.74891834],\n       [-13.76905858,   6.15453048]])"
     },
     "execution_count": 11,
     "metadata": {},
     "output_type": "execute_result"
    }
   ],
   "source": [
    "feature_0 = np.random.randn(1000) * 10   \n",
    "feature_1 = np.concatenate([np.random.randn(500), np.random.randn(500) + 5])\n",
    "data = np.column_stack([feature_0, feature_1])\n",
    "data "
   ]
  },
  {
   "cell_type": "code",
   "execution_count": 12,
   "metadata": {},
   "outputs": [
    {
     "data": {
      "text/plain": "<Figure size 288x288 with 1 Axes>",
      "image/png": "[encoded data removed]"
     },
     "metadata": {},
     "output_type": "display_data"
    }
   ],
   "source": [
    "plot_scatter(data[:, 0], data[:, 1], auto_scaled=True, title='Data (different axes units!)')"
   ]
  },
  {
   "cell_type": "markdown",
   "metadata": {},
   "source": [
    "**NOTE:** on the plot above axes are scaled differently and we can clearly see two potential *classes/clusters*. In fact `matplotlib` performed `autoscaling` (which is basically can be considered as `MinMaxScaling` of original data) just for better visualization purposes.\n",
    "\n",
    "Let's turn this feature off and visualize the original data on the plot with equally scaled axes:"
   ]
  },
  {
   "cell_type": "code",
   "execution_count": 13,
   "metadata": {},
   "outputs": [
    {
     "data": {
      "text/plain": "<Figure size 288x288 with 1 Axes>",
      "image/png": "[encoded data removed]"
     },
     "metadata": {},
     "output_type": "display_data"
    }
   ],
   "source": [
    "plot_scatter(data[:, 0], data[:, 1], auto_scaled=False , title='Data (equal axes units!)')"
   ]
  },
  {
   "cell_type": "markdown",
   "metadata": {},
   "source": [
    "This picture is clearly less interpretable, but much closer to \"how distance-based algorithm see the original data\": separability of data is hardly noticable only because the variation (std) of x-feature is much bigger in absolute numbers."
   ]
  },
  {
   "cell_type": "markdown",
   "metadata": {},
   "source": [
    "Perform `StandardScaling` and `MinMaxScaling` of original data; visualize results for each case (**use `plot_scatter` with `auto_scaled=False`**):"
   ]
  },
  {
   "cell_type": "markdown",
   "metadata": {},
   "source": [
    "### MinMaxScaling (0.5 point)"
   ]
  },
  {
   "cell_type": "code",
   "execution_count": 14,
   "metadata": {},
   "outputs": [
    {
     "data": {
      "text/plain": "<Figure size 288x288 with 1 Axes>",
      "image/png": "[encoded data removed]"
     },
     "metadata": {},
     "output_type": "display_data"
    }
   ],
   "source": [
    "scaler = MinMaxScaler()\n",
    "min_max_scaled_data = scaler.fit_transform(data)\n",
    "plot_scatter(min_max_scaled_data[:, 0], min_max_scaled_data[:, 1], auto_scaled=False , title='MinMaxScaled data')"
   ]
  },
  {
   "cell_type": "markdown",
   "metadata": {},
   "source": [
    "### StandardScaler (0.5 point)"
   ]
  },
  {
   "cell_type": "code",
   "execution_count": 15,
   "metadata": {},
   "outputs": [
    {
     "data": {
      "text/plain": "<Figure size 288x288 with 1 Axes>",
      "image/png": "[encoded data removed]"
     },
     "metadata": {},
     "output_type": "display_data"
    }
   ],
   "source": [
    "scaler = StandardScaler()\n",
    "standart_scaled_data = scaler.fit_transform(data)\n",
    "plot_scatter(standart_scaled_data[:, 0], standart_scaled_data[:, 1], auto_scaled=False , title='MinMaxScaled data')"
   ]
  },
  {
   "cell_type": "markdown",
   "metadata": {},
   "source": [
    "### (Bonus) K-means (2 points)"
   ]
  },
  {
   "cell_type": "markdown",
   "metadata": {},
   "source": [
    "Illustrate the impact of scaling on basic distance-based clustering algorithm [K-means](https://towardsdatascience.com/understanding-k-means-clustering-in-machine-learning-6a6e67336aa1) using `data` generated above.\n",
    "\n",
    "**NOTE:** basically, you don't need understanding K-means algorithm here, you just need to:\n",
    "\n",
    "1) run algorithm (with k=2, k - number of clusters/classes) on unscaled data    \n",
    "2) run algorithm (with k=2) on scaled data    \n",
    "3) plot results: highlight different clusters using different colors.\n",
    "\n",
    "You can use this [question](https://stats.stackexchange.com/questions/89809/is-it-important-to-scale-data-before-clustering/89813) as a hint, but I recommend you to plot results using `plot_scatter` with `equal_scaled=True`: it might help you to intuitively understand the reasons of such scaling impact.\n"
   ]
  },
  {
   "cell_type": "code",
   "execution_count": 35,
   "outputs": [
    {
     "data": {
      "text/plain": "<Figure size 288x288 with 1 Axes>",
      "image/png": "[encoded data removed]"
     },
     "metadata": {},
     "output_type": "display_data"
    }
   ],
   "source": [
    "from sklearn.cluster import KMeans\n",
    "no_scale = KMeans(n_clusters=2).fit_transform(data)\n",
    "plot_scatter(x=no_scale[:, 0], y=no_scale[:, 1 ], clusters='gray', title='No scaled data', auto_scaled=False)\n"
   ],
   "metadata": {
    "collapsed": false,
    "pycharm": {
     "name": "#%%\n"
    }
   }
  },
  {
   "cell_type": "code",
   "execution_count": 36,
   "metadata": {},
   "outputs": [
    {
     "data": {
      "text/plain": "<Figure size 288x288 with 1 Axes>",
      "image/png": "[encoded data removed]"
     },
     "metadata": {},
     "output_type": "display_data"
    }
   ],
   "source": [
    "from sklearn.cluster import KMeans\n",
    "scaler = StandardScaler()\n",
    "standart_scaled_data = scaler.fit_transform(data)\n",
    "sscale = KMeans(n_clusters=2).fit_transform(standart_scaled_data)\n",
    "plot_scatter(sscale[:, 0], sscale[:, 1 ], title='No scaled data', auto_scaled=False)\n"
   ]
  },
  {
   "cell_type": "markdown",
   "metadata": {},
   "source": [
    "## Exercise  3 - Preprocessing Pipeline (2 points)"
   ]
  },
  {
   "cell_type": "code",
   "execution_count": 9,
   "metadata": {},
   "outputs": [],
   "source": [
    "wine_train, wine_val, wine_labels_train, wine_labels_val = train_test_split(wine_data, wine_labels, \n",
    "                                                                            test_size=0.3, random_state=42)"
   ]
  },
  {
   "cell_type": "markdown",
   "metadata": {},
   "source": [
    "Train model (for example, `LogisticRegression(solver='liblinear', penalty='l1')` on raw `wine_train` data; then train same model after data scaling; then add feature selection (and train model again on scaled data). For each experiment all required preprocessing steps (if any) should be wrapped into sklearn pipeline.\n",
    "\n",
    "Measure `accuracy` of all 3 approaches on `wine_val` dataset. Describe and explain results."
   ]
  },
  {
   "cell_type": "code",
   "execution_count": 11,
   "metadata": {},
   "outputs": [
    {
     "name": "stdout",
     "output_type": "stream",
     "text": [
      "Train data: 0.967741935483871\n",
      "Test data: 0.9814814814814815\n"
     ]
    },
    {
     "data": {
      "text/plain": "Pipeline(steps=[('logreg',\n                 LogisticRegression(penalty='l1', solver='liblinear'))])",
      "text/html": "<style>#sk-dbb7b6a9-fceb-4a2a-94a2-6cb7aa06cd92 {color: black;background-color: white;}#sk-dbb7b6a9-fceb-4a2a-94a2-6cb7aa06cd92 pre{padding: 0;}#sk-dbb7b6a9-fceb-4a2a-94a2-6cb7aa06cd92 div.sk-toggleable {background-color: white;}#sk-dbb7b6a9-fceb-4a2a-94a2-6cb7aa06cd92 label.sk-toggleable__label {cursor: pointer;display: block;width: 100%;margin-bottom: 0;padding: 0.2em 0.3em;box-sizing: border-box;text-align: center;}#sk-dbb7b6a9-fceb-4a2a-94a2-6cb7aa06cd92 div.sk-toggleable__content {max-height: 0;max-width: 0;overflow: hidden;text-align: left;background-color: #f0f8ff;}#sk-dbb7b6a9-fceb-4a2a-94a2-6cb7aa06cd92 div.sk-toggleable__content pre {margin: 0.2em;color: black;border-radius: 0.25em;background-color: #f0f8ff;}#sk-dbb7b6a9-fceb-4a2a-94a2-6cb7aa06cd92 input.sk-toggleable__control:checked~div.sk-toggleable__content {max-height: 200px;max-width: 100%;overflow: auto;}#sk-dbb7b6a9-fceb-4a2a-94a2-6cb7aa06cd92 div.sk-estimator input.sk-toggleable__control:checked~label.sk-toggleable__label {background-color: #d4ebff;}#sk-dbb7b6a9-fceb-4a2a-94a2-6cb7aa06cd92 div.sk-label input.sk-toggleable__control:checked~label.sk-toggleable__label {background-color: #d4ebff;}#sk-dbb7b6a9-fceb-4a2a-94a2-6cb7aa06cd92 input.sk-hidden--visually {border: 0;clip: rect(1px 1px 1px 1px);clip: rect(1px, 1px, 1px, 1px);height: 1px;margin: -1px;overflow: hidden;padding: 0;position: absolute;width: 1px;}#sk-dbb7b6a9-fceb-4a2a-94a2-6cb7aa06cd92 div.sk-estimator {font-family: monospace;background-color: #f0f8ff;margin: 0.25em 0.25em;border: 1px dotted black;border-radius: 0.25em;box-sizing: border-box;}#sk-dbb7b6a9-fceb-4a2a-94a2-6cb7aa06cd92 div.sk-estimator:hover {background-color: #d4ebff;}#sk-dbb7b6a9-fceb-4a2a-94a2-6cb7aa06cd92 div.sk-parallel-item::after {content: \"\";width: 100%;border-bottom: 1px solid gray;flex-grow: 1;}#sk-dbb7b6a9-fceb-4a2a-94a2-6cb7aa06cd92 div.sk-label:hover label.sk-toggleable__label {background-color: #d4ebff;}#sk-dbb7b6a9-fceb-4a2a-94a2-6cb7aa06cd92 div.sk-serial::before {content: \"\";position: absolute;border-left: 1px solid gray;box-sizing: border-box;top: 2em;bottom: 0;left: 50%;}#sk-dbb7b6a9-fceb-4a2a-94a2-6cb7aa06cd92 div.sk-serial {display: flex;flex-direction: column;align-items: center;background-color: white;}#sk-dbb7b6a9-fceb-4a2a-94a2-6cb7aa06cd92 div.sk-item {z-index: 1;}#sk-dbb7b6a9-fceb-4a2a-94a2-6cb7aa06cd92 div.sk-parallel {display: flex;align-items: stretch;justify-content: center;background-color: white;}#sk-dbb7b6a9-fceb-4a2a-94a2-6cb7aa06cd92 div.sk-parallel-item {display: flex;flex-direction: column;position: relative;background-color: white;}#sk-dbb7b6a9-fceb-4a2a-94a2-6cb7aa06cd92 div.sk-parallel-item:first-child::after {align-self: flex-end;width: 50%;}#sk-dbb7b6a9-fceb-4a2a-94a2-6cb7aa06cd92 div.sk-parallel-item:last-child::after {align-self: flex-start;width: 50%;}#sk-dbb7b6a9-fceb-4a2a-94a2-6cb7aa06cd92 div.sk-parallel-item:only-child::after {width: 0;}#sk-dbb7b6a9-fceb-4a2a-94a2-6cb7aa06cd92 div.sk-dashed-wrapped {border: 1px dashed gray;margin: 0.2em;box-sizing: border-box;padding-bottom: 0.1em;background-color: white;position: relative;}#sk-dbb7b6a9-fceb-4a2a-94a2-6cb7aa06cd92 div.sk-label label {font-family: monospace;font-weight: bold;background-color: white;display: inline-block;line-height: 1.2em;}#sk-dbb7b6a9-fceb-4a2a-94a2-6cb7aa06cd92 div.sk-label-container {position: relative;z-index: 2;text-align: center;}#sk-dbb7b6a9-fceb-4a2a-94a2-6cb7aa06cd92 div.sk-container {display: inline-block;position: relative;}</style><div id=\"sk-dbb7b6a9-fceb-4a2a-94a2-6cb7aa06cd92\" class\"sk-top-container\"><div class=\"sk-container\"><div class=\"sk-item sk-dashed-wrapped\"><div class=\"sk-label-container\"><div class=\"sk-label sk-toggleable\"><input class=\"sk-toggleable__control sk-hidden--visually\" id=\"c7ce453c-9c7d-44fc-9598-79361e526500\" type=\"checkbox\" ><label class=\"sk-toggleable__label\" for=\"c7ce453c-9c7d-44fc-9598-79361e526500\">Pipeline</label><div class=\"sk-toggleable__content\"><pre>Pipeline(steps=[('logreg',\n                 LogisticRegression(penalty='l1', solver='liblinear'))])</pre></div></div></div><div class=\"sk-serial\"><div class=\"sk-item\"><div class=\"sk-estimator sk-toggleable\"><input class=\"sk-toggleable__control sk-hidden--visually\" id=\"c0c09c72-3678-45ac-95ec-d9c297a8a59c\" type=\"checkbox\" ><label class=\"sk-toggleable__label\" for=\"c0c09c72-3678-45ac-95ec-d9c297a8a59c\">LogisticRegression</label><div class=\"sk-toggleable__content\"><pre>LogisticRegression(penalty='l1', solver='liblinear')</pre></div></div></div></div></div></div></div>"
     },
     "execution_count": 11,
     "metadata": {},
     "output_type": "execute_result"
    }
   ],
   "source": [
    "#without scaling\n",
    "from sklearn import set_config\n",
    "logreg = LogisticRegression(solver='liblinear', penalty='l1')\n",
    "logreg.fit(wine_train, wine_labels_train)\n",
    "pred = logreg.predict(wine_val)\n",
    "\n",
    "print('Train data:', accuracy_score(wine_labels_train, logreg.predict(wine_train)))\n",
    "print('Test data:', accuracy_score(pred, wine_labels_val))\n",
    "pipe = Pipeline([('logreg', LogisticRegression(solver='liblinear', penalty='l1'))])\n",
    "set_config(display='diagram')\n",
    "pipe"
   ]
  },
  {
   "cell_type": "code",
   "execution_count": 12,
   "outputs": [
    {
     "name": "stdout",
     "output_type": "stream",
     "text": [
      "Train data: 0.967741935483871\n",
      "Test data: 1.0\n"
     ]
    },
    {
     "data": {
      "text/plain": "Pipeline(steps=[('sc', MinMaxScaler()),\n                ('logreg',\n                 LogisticRegression(penalty='l1', solver='liblinear'))])",
      "text/html": "<style>#sk-7d59a6a2-d4ff-47a5-809f-63845d7e9e28 {color: black;background-color: white;}#sk-7d59a6a2-d4ff-47a5-809f-63845d7e9e28 pre{padding: 0;}#sk-7d59a6a2-d4ff-47a5-809f-63845d7e9e28 div.sk-toggleable {background-color: white;}#sk-7d59a6a2-d4ff-47a5-809f-63845d7e9e28 label.sk-toggleable__label {cursor: pointer;display: block;width: 100%;margin-bottom: 0;padding: 0.2em 0.3em;box-sizing: border-box;text-align: center;}#sk-7d59a6a2-d4ff-47a5-809f-63845d7e9e28 div.sk-toggleable__content {max-height: 0;max-width: 0;overflow: hidden;text-align: left;background-color: #f0f8ff;}#sk-7d59a6a2-d4ff-47a5-809f-63845d7e9e28 div.sk-toggleable__content pre {margin: 0.2em;color: black;border-radius: 0.25em;background-color: #f0f8ff;}#sk-7d59a6a2-d4ff-47a5-809f-63845d7e9e28 input.sk-toggleable__control:checked~div.sk-toggleable__content {max-height: 200px;max-width: 100%;overflow: auto;}#sk-7d59a6a2-d4ff-47a5-809f-63845d7e9e28 div.sk-estimator input.sk-toggleable__control:checked~label.sk-toggleable__label {background-color: #d4ebff;}#sk-7d59a6a2-d4ff-47a5-809f-63845d7e9e28 div.sk-label input.sk-toggleable__control:checked~label.sk-toggleable__label {background-color: #d4ebff;}#sk-7d59a6a2-d4ff-47a5-809f-63845d7e9e28 input.sk-hidden--visually {border: 0;clip: rect(1px 1px 1px 1px);clip: rect(1px, 1px, 1px, 1px);height: 1px;margin: -1px;overflow: hidden;padding: 0;position: absolute;width: 1px;}#sk-7d59a6a2-d4ff-47a5-809f-63845d7e9e28 div.sk-estimator {font-family: monospace;background-color: #f0f8ff;margin: 0.25em 0.25em;border: 1px dotted black;border-radius: 0.25em;box-sizing: border-box;}#sk-7d59a6a2-d4ff-47a5-809f-63845d7e9e28 div.sk-estimator:hover {background-color: #d4ebff;}#sk-7d59a6a2-d4ff-47a5-809f-63845d7e9e28 div.sk-parallel-item::after {content: \"\";width: 100%;border-bottom: 1px solid gray;flex-grow: 1;}#sk-7d59a6a2-d4ff-47a5-809f-63845d7e9e28 div.sk-label:hover label.sk-toggleable__label {background-color: #d4ebff;}#sk-7d59a6a2-d4ff-47a5-809f-63845d7e9e28 div.sk-serial::before {content: \"\";position: absolute;border-left: 1px solid gray;box-sizing: border-box;top: 2em;bottom: 0;left: 50%;}#sk-7d59a6a2-d4ff-47a5-809f-63845d7e9e28 div.sk-serial {display: flex;flex-direction: column;align-items: center;background-color: white;}#sk-7d59a6a2-d4ff-47a5-809f-63845d7e9e28 div.sk-item {z-index: 1;}#sk-7d59a6a2-d4ff-47a5-809f-63845d7e9e28 div.sk-parallel {display: flex;align-items: stretch;justify-content: center;background-color: white;}#sk-7d59a6a2-d4ff-47a5-809f-63845d7e9e28 div.sk-parallel-item {display: flex;flex-direction: column;position: relative;background-color: white;}#sk-7d59a6a2-d4ff-47a5-809f-63845d7e9e28 div.sk-parallel-item:first-child::after {align-self: flex-end;width: 50%;}#sk-7d59a6a2-d4ff-47a5-809f-63845d7e9e28 div.sk-parallel-item:last-child::after {align-self: flex-start;width: 50%;}#sk-7d59a6a2-d4ff-47a5-809f-63845d7e9e28 div.sk-parallel-item:only-child::after {width: 0;}#sk-7d59a6a2-d4ff-47a5-809f-63845d7e9e28 div.sk-dashed-wrapped {border: 1px dashed gray;margin: 0.2em;box-sizing: border-box;padding-bottom: 0.1em;background-color: white;position: relative;}#sk-7d59a6a2-d4ff-47a5-809f-63845d7e9e28 div.sk-label label {font-family: monospace;font-weight: bold;background-color: white;display: inline-block;line-height: 1.2em;}#sk-7d59a6a2-d4ff-47a5-809f-63845d7e9e28 div.sk-label-container {position: relative;z-index: 2;text-align: center;}#sk-7d59a6a2-d4ff-47a5-809f-63845d7e9e28 div.sk-container {display: inline-block;position: relative;}</style><div id=\"sk-7d59a6a2-d4ff-47a5-809f-63845d7e9e28\" class\"sk-top-container\"><div class=\"sk-container\"><div class=\"sk-item sk-dashed-wrapped\"><div class=\"sk-label-container\"><div class=\"sk-label sk-toggleable\"><input class=\"sk-toggleable__control sk-hidden--visually\" id=\"36b4ae63-6053-4372-a780-7e9df00cdd09\" type=\"checkbox\" ><label class=\"sk-toggleable__label\" for=\"36b4ae63-6053-4372-a780-7e9df00cdd09\">Pipeline</label><div class=\"sk-toggleable__content\"><pre>Pipeline(steps=[('sc', MinMaxScaler()),\n                ('logreg',\n                 LogisticRegression(penalty='l1', solver='liblinear'))])</pre></div></div></div><div class=\"sk-serial\"><div class=\"sk-item\"><div class=\"sk-estimator sk-toggleable\"><input class=\"sk-toggleable__control sk-hidden--visually\" id=\"e3c921d5-46f0-4317-9768-be8a438c7892\" type=\"checkbox\" ><label class=\"sk-toggleable__label\" for=\"e3c921d5-46f0-4317-9768-be8a438c7892\">MinMaxScaler</label><div class=\"sk-toggleable__content\"><pre>MinMaxScaler()</pre></div></div></div><div class=\"sk-item\"><div class=\"sk-estimator sk-toggleable\"><input class=\"sk-toggleable__control sk-hidden--visually\" id=\"c3267a51-ae64-4d28-b6e9-b521aeb94706\" type=\"checkbox\" ><label class=\"sk-toggleable__label\" for=\"c3267a51-ae64-4d28-b6e9-b521aeb94706\">LogisticRegression</label><div class=\"sk-toggleable__content\"><pre>LogisticRegression(penalty='l1', solver='liblinear')</pre></div></div></div></div></div></div></div>"
     },
     "execution_count": 12,
     "metadata": {},
     "output_type": "execute_result"
    }
   ],
   "source": [
    "#with scaling\n",
    "logreg = LogisticRegression(solver='liblinear', penalty='l1')\n",
    "sc = MinMaxScaler()\n",
    "sc.fit(wine_train)\n",
    "sc_wine_train = sc.transform(wine_train)\n",
    "sc_wine_val = sc.transform(wine_val)\n",
    "\n",
    "logreg.fit(sc_wine_train, wine_labels_train)\n",
    "predictions = logreg.predict(sc_wine_val)\n",
    "print('Train data:', accuracy_score(wine_labels_train, logreg.predict(sc_wine_train)))\n",
    "print('Test data:', accuracy_score(predictions, wine_labels_val))\n",
    "\n",
    "pipe = Pipeline(steps=[('sc', MinMaxScaler()),('logreg', LogisticRegression(solver='liblinear', penalty='l1'))])\n",
    "pipe"
   ],
   "metadata": {
    "collapsed": false,
    "pycharm": {
     "name": "#%%\n"
    }
   }
  },
  {
   "cell_type": "code",
   "execution_count": 13,
   "outputs": [
    {
     "name": "stdout",
     "output_type": "stream",
     "text": [
      "Train data: 0.9838709677419355\n",
      "Test data: 1.0\n"
     ]
    },
    {
     "data": {
      "text/plain": "Pipeline(steps=[('sc', MinMaxScaler()),\n                ('selector', SelectFromModel(estimator=LogisticRegression())),\n                ('logreg',\n                 LogisticRegression(penalty='l1', solver='liblinear'))])",
      "text/html": "<style>#sk-a514fca9-0bae-4cbf-a383-57e63e724a69 {color: black;background-color: white;}#sk-a514fca9-0bae-4cbf-a383-57e63e724a69 pre{padding: 0;}#sk-a514fca9-0bae-4cbf-a383-57e63e724a69 div.sk-toggleable {background-color: white;}#sk-a514fca9-0bae-4cbf-a383-57e63e724a69 label.sk-toggleable__label {cursor: pointer;display: block;width: 100%;margin-bottom: 0;padding: 0.2em 0.3em;box-sizing: border-box;text-align: center;}#sk-a514fca9-0bae-4cbf-a383-57e63e724a69 div.sk-toggleable__content {max-height: 0;max-width: 0;overflow: hidden;text-align: left;background-color: #f0f8ff;}#sk-a514fca9-0bae-4cbf-a383-57e63e724a69 div.sk-toggleable__content pre {margin: 0.2em;color: black;border-radius: 0.25em;background-color: #f0f8ff;}#sk-a514fca9-0bae-4cbf-a383-57e63e724a69 input.sk-toggleable__control:checked~div.sk-toggleable__content {max-height: 200px;max-width: 100%;overflow: auto;}#sk-a514fca9-0bae-4cbf-a383-57e63e724a69 div.sk-estimator input.sk-toggleable__control:checked~label.sk-toggleable__label {background-color: #d4ebff;}#sk-a514fca9-0bae-4cbf-a383-57e63e724a69 div.sk-label input.sk-toggleable__control:checked~label.sk-toggleable__label {background-color: #d4ebff;}#sk-a514fca9-0bae-4cbf-a383-57e63e724a69 input.sk-hidden--visually {border: 0;clip: rect(1px 1px 1px 1px);clip: rect(1px, 1px, 1px, 1px);height: 1px;margin: -1px;overflow: hidden;padding: 0;position: absolute;width: 1px;}#sk-a514fca9-0bae-4cbf-a383-57e63e724a69 div.sk-estimator {font-family: monospace;background-color: #f0f8ff;margin: 0.25em 0.25em;border: 1px dotted black;border-radius: 0.25em;box-sizing: border-box;}#sk-a514fca9-0bae-4cbf-a383-57e63e724a69 div.sk-estimator:hover {background-color: #d4ebff;}#sk-a514fca9-0bae-4cbf-a383-57e63e724a69 div.sk-parallel-item::after {content: \"\";width: 100%;border-bottom: 1px solid gray;flex-grow: 1;}#sk-a514fca9-0bae-4cbf-a383-57e63e724a69 div.sk-label:hover label.sk-toggleable__label {background-color: #d4ebff;}#sk-a514fca9-0bae-4cbf-a383-57e63e724a69 div.sk-serial::before {content: \"\";position: absolute;border-left: 1px solid gray;box-sizing: border-box;top: 2em;bottom: 0;left: 50%;}#sk-a514fca9-0bae-4cbf-a383-57e63e724a69 div.sk-serial {display: flex;flex-direction: column;align-items: center;background-color: white;}#sk-a514fca9-0bae-4cbf-a383-57e63e724a69 div.sk-item {z-index: 1;}#sk-a514fca9-0bae-4cbf-a383-57e63e724a69 div.sk-parallel {display: flex;align-items: stretch;justify-content: center;background-color: white;}#sk-a514fca9-0bae-4cbf-a383-57e63e724a69 div.sk-parallel-item {display: flex;flex-direction: column;position: relative;background-color: white;}#sk-a514fca9-0bae-4cbf-a383-57e63e724a69 div.sk-parallel-item:first-child::after {align-self: flex-end;width: 50%;}#sk-a514fca9-0bae-4cbf-a383-57e63e724a69 div.sk-parallel-item:last-child::after {align-self: flex-start;width: 50%;}#sk-a514fca9-0bae-4cbf-a383-57e63e724a69 div.sk-parallel-item:only-child::after {width: 0;}#sk-a514fca9-0bae-4cbf-a383-57e63e724a69 div.sk-dashed-wrapped {border: 1px dashed gray;margin: 0.2em;box-sizing: border-box;padding-bottom: 0.1em;background-color: white;position: relative;}#sk-a514fca9-0bae-4cbf-a383-57e63e724a69 div.sk-label label {font-family: monospace;font-weight: bold;background-color: white;display: inline-block;line-height: 1.2em;}#sk-a514fca9-0bae-4cbf-a383-57e63e724a69 div.sk-label-container {position: relative;z-index: 2;text-align: center;}#sk-a514fca9-0bae-4cbf-a383-57e63e724a69 div.sk-container {display: inline-block;position: relative;}</style><div id=\"sk-a514fca9-0bae-4cbf-a383-57e63e724a69\" class\"sk-top-container\"><div class=\"sk-container\"><div class=\"sk-item sk-dashed-wrapped\"><div class=\"sk-label-container\"><div class=\"sk-label sk-toggleable\"><input class=\"sk-toggleable__control sk-hidden--visually\" id=\"5750ac1b-7d37-4c6a-b56a-3725c6d3308f\" type=\"checkbox\" ><label class=\"sk-toggleable__label\" for=\"5750ac1b-7d37-4c6a-b56a-3725c6d3308f\">Pipeline</label><div class=\"sk-toggleable__content\"><pre>Pipeline(steps=[('sc', MinMaxScaler()),\n                ('selector', SelectFromModel(estimator=LogisticRegression())),\n                ('logreg',\n                 LogisticRegression(penalty='l1', solver='liblinear'))])</pre></div></div></div><div class=\"sk-serial\"><div class=\"sk-item\"><div class=\"sk-estimator sk-toggleable\"><input class=\"sk-toggleable__control sk-hidden--visually\" id=\"1ed76823-91d5-41f6-8f96-e18ad521bb97\" type=\"checkbox\" ><label class=\"sk-toggleable__label\" for=\"1ed76823-91d5-41f6-8f96-e18ad521bb97\">MinMaxScaler</label><div class=\"sk-toggleable__content\"><pre>MinMaxScaler()</pre></div></div></div><div class=\"sk-item sk-dashed-wrapped\"><div class=\"sk-label-container\"><div class=\"sk-label sk-toggleable\"><input class=\"sk-toggleable__control sk-hidden--visually\" id=\"8b3ceffb-8b63-4a22-b369-3bd307ae5f8f\" type=\"checkbox\" ><label class=\"sk-toggleable__label\" for=\"8b3ceffb-8b63-4a22-b369-3bd307ae5f8f\">selector: SelectFromModel</label><div class=\"sk-toggleable__content\"><pre>SelectFromModel(estimator=LogisticRegression())</pre></div></div></div><div class=\"sk-parallel\"><div class=\"sk-parallel-item\"><div class=\"sk-item\"><div class=\"sk-serial\"><div class=\"sk-item\"><div class=\"sk-estimator sk-toggleable\"><input class=\"sk-toggleable__control sk-hidden--visually\" id=\"bc5d7313-8eb8-48ad-ac38-06b236596808\" type=\"checkbox\" ><label class=\"sk-toggleable__label\" for=\"bc5d7313-8eb8-48ad-ac38-06b236596808\">LogisticRegression</label><div class=\"sk-toggleable__content\"><pre>LogisticRegression()</pre></div></div></div></div></div></div></div></div><div class=\"sk-item\"><div class=\"sk-estimator sk-toggleable\"><input class=\"sk-toggleable__control sk-hidden--visually\" id=\"fd4ae60a-df3b-4ec1-ac65-9ce9f7475870\" type=\"checkbox\" ><label class=\"sk-toggleable__label\" for=\"fd4ae60a-df3b-4ec1-ac65-9ce9f7475870\">LogisticRegression</label><div class=\"sk-toggleable__content\"><pre>LogisticRegression(penalty='l1', solver='liblinear')</pre></div></div></div></div></div></div></div>"
     },
     "execution_count": 13,
     "metadata": {},
     "output_type": "execute_result"
    }
   ],
   "source": [
    "#with scaling and feature selection SelectFromModel\n",
    "selector = SelectFromModel(estimator=LogisticRegression())\n",
    "sel_wine_train = selector.fit_transform(sc_wine_train, wine_labels_train)\n",
    "sel_wine_val = selector.fit_transform(sc_wine_val, wine_labels_val)\n",
    "\n",
    "logreg.fit(sel_wine_train, wine_labels_train)\n",
    "pred = logreg.predict(sel_wine_val)\n",
    "print('Train data:', accuracy_score(wine_labels_train, logreg.predict(sel_wine_train)))\n",
    "print('Test data:', accuracy_score(pred, wine_labels_val))\n",
    "\n",
    "pipe = Pipeline(steps=[('sc', MinMaxScaler()), ('selector', SelectFromModel(estimator=LogisticRegression())), ('logreg', LogisticRegression(solver='liblinear', penalty='l1'))])\n",
    "pipe"
   ],
   "metadata": {
    "collapsed": false,
    "pycharm": {
     "name": "#%%\n"
    }
   }
  },
  {
   "cell_type": "markdown",
   "source": [
    "Можно сделать выводы, что при использовании скалирования и feature selection можно получить наилучший результат. Таким образом, при совмещении двух этих функций скор на тренировочных данных достигает 0.98, а на тестовых модель смогла предсказать идеально, и скор составляет 1.0"
   ],
   "metadata": {
    "collapsed": false,
    "pycharm": {
     "name": "#%% md\n"
    }
   }
  },
  {
   "cell_type": "markdown",
   "metadata": {},
   "source": [
    "## Exercise 4 - manual PCA (5 points)\n",
    "The task is to solve PCA as an optimization problem, without explicitly doing eigen value decomposition.\n",
    "In the most general setting PCA is minimization of reconstruction error of a projection of given rank $q$\n",
    "\n",
    "$$\\min_{\\mu, \\lambda_1,\\ldots, \\lambda_n, \\mathbf{V}_q} \\sum_{i=1}^n ||x_i - \\mu - \\mathbf{V}_q \\lambda_i||^2$$\n",
    "\n",
    "With a number of steps that can be found here https://stats.stackexchange.com/a/10260 this task transforms to\n",
    " $$\\max_{u_i} \\sum_{i=1}^q u_i^T \\mathbf{S} u_i$$\n",
    " where $\\mathbf{S}$ is the sample covariance matrix (after standartization) and $u_1, \\ldots, u_q$ are the $q$ are orthonormal columns in $\\mathbf{V}_q$.\n",
    " Let us solve this optimization problem with `scipy.optimize` library.\n",
    " \n",
    " Additional 2 point are given for visualization of the results."
   ]
  },
  {
   "cell_type": "markdown",
   "metadata": {},
   "source": [
    "### PCA (3 points)"
   ]
  },
  {
   "cell_type": "code",
   "execution_count": 73,
   "metadata": {},
   "outputs": [],
   "source": [
    "wine_data, wine_labels = wine_sklearn['data'], wine_sklearn['target']"
   ]
  },
  {
   "cell_type": "markdown",
   "metadata": {},
   "source": [
    "Find a covariance matrix of standartized data and assing it to S."
   ]
  },
  {
   "cell_type": "code",
   "execution_count": 74,
   "metadata": {},
   "outputs": [],
   "source": [
    "## your code\n",
    "\n",
    "S = np.cov(StandardScaler().fit_transform(wine_data), rowvar=False)"
   ]
  },
  {
   "cell_type": "markdown",
   "metadata": {},
   "source": [
    "If your code is correct, the following assert should be Ok."
   ]
  },
  {
   "cell_type": "code",
   "execution_count": 75,
   "metadata": {},
   "outputs": [],
   "source": [
    "assert np.allclose(np.linalg.norm(S), 5.787241159764733)"
   ]
  },
  {
   "cell_type": "code",
   "execution_count": 76,
   "metadata": {},
   "outputs": [
    {
     "ename": "IndentationError",
     "evalue": "expected an indented block (Temp/ipykernel_7024/2694378148.py, line 6)",
     "output_type": "error",
     "traceback": [
      "\u001B[1;36m  File \u001B[1;32m\"C:\\Users\\Admin\\AppData\\Local\\Temp/ipykernel_7024/2694378148.py\"\u001B[1;36m, line \u001B[1;32m6\u001B[0m\n\u001B[1;33m    def norm_constraint(x):\u001B[0m\n\u001B[1;37m    ^\u001B[0m\n\u001B[1;31mIndentationError\u001B[0m\u001B[1;31m:\u001B[0m expected an indented block\n"
     ]
    }
   ],
   "source": [
    "from scipy.optimize import minimize\n",
    "\n",
    "def objective(x):\n",
    "    # your code: write objective of the problem (don't forget that scipy does min while we need max)\n",
    "\n",
    "def norm_constraint(x):\n",
    "    # your code: constaraint norm of x to be 1, function should return 0 if constraint holds\n",
    "\n",
    "con1 = {'type': 'eq', 'fun': norm_constraint}\n",
    "\n",
    "x0 = # your code: initial vector to start optimization\n",
    "\n",
    "sol = minimize(objective, \n",
    "               x0, \n",
    "               constraints = [con1]\n",
    "              )\n",
    "x0 = sol.x"
   ]
  },
  {
   "cell_type": "markdown",
   "metadata": {},
   "source": [
    "Hurray! We have first vector! Let's do another one."
   ]
  },
  {
   "cell_type": "code",
   "execution_count": 77,
   "metadata": {},
   "outputs": [
    {
     "ename": "IndentationError",
     "evalue": "expected an indented block (Temp/ipykernel_7024/3860274178.py, line 4)",
     "output_type": "error",
     "traceback": [
      "\u001B[1;36m  File \u001B[1;32m\"C:\\Users\\Admin\\AppData\\Local\\Temp/ipykernel_7024/3860274178.py\"\u001B[1;36m, line \u001B[1;32m4\u001B[0m\n\u001B[1;33m    con2 = {'type': 'eq', 'fun': orthogonality_constraint}\u001B[0m\n\u001B[1;37m    ^\u001B[0m\n\u001B[1;31mIndentationError\u001B[0m\u001B[1;31m:\u001B[0m expected an indented block\n"
     ]
    }
   ],
   "source": [
    "def orthogonality_constraint(x):\n",
    "    # your code: x should be orthogonal to x0, function should return 0 if constraint holds\n",
    "\n",
    "con2 = {'type': 'eq', 'fun': orthogonality_constraint}\n",
    "\n",
    "x1 = # your code: initial vector to start optimization\n",
    "\n",
    "\n",
    "sol = minimize(objective, \n",
    "               x1, \n",
    "               constraints = #your code\n",
    "              )\n",
    "\n",
    "x1 = sol.x"
   ]
  },
  {
   "cell_type": "markdown",
   "metadata": {},
   "source": [
    "If your solution is correct, the following asserts should be Ok."
   ]
  },
  {
   "cell_type": "code",
   "execution_count": 78,
   "metadata": {},
   "outputs": [
    {
     "ename": "NameError",
     "evalue": "name 'x0' is not defined",
     "output_type": "error",
     "traceback": [
      "\u001B[1;31m---------------------------------------------------------------------------\u001B[0m",
      "\u001B[1;31mNameError\u001B[0m                                 Traceback (most recent call last)",
      "\u001B[1;32m~\\AppData\\Local\\Temp/ipykernel_7024/1403340736.py\u001B[0m in \u001B[0;36m<module>\u001B[1;34m\u001B[0m\n\u001B[1;32m----> 1\u001B[1;33m \u001B[1;32massert\u001B[0m \u001B[0mnp\u001B[0m\u001B[1;33m.\u001B[0m\u001B[0mallclose\u001B[0m\u001B[1;33m(\u001B[0m\u001B[0mx0\u001B[0m\u001B[1;33m@\u001B[0m\u001B[0mS\u001B[0m\u001B[1;33m@\u001B[0m\u001B[0mx0\u001B[0m\u001B[1;33m,\u001B[0m \u001B[1;36m4.732436977583595\u001B[0m\u001B[1;33m)\u001B[0m\u001B[1;33m\u001B[0m\u001B[1;33m\u001B[0m\u001B[0m\n\u001B[0m\u001B[0;32m      2\u001B[0m \u001B[1;32massert\u001B[0m \u001B[0mnp\u001B[0m\u001B[1;33m.\u001B[0m\u001B[0mallclose\u001B[0m\u001B[1;33m(\u001B[0m\u001B[0mx1\u001B[0m\u001B[1;33m@\u001B[0m\u001B[0mS\u001B[0m\u001B[1;33m@\u001B[0m\u001B[0mx1\u001B[0m\u001B[1;33m,\u001B[0m \u001B[1;36m2.5110809296451233\u001B[0m\u001B[1;33m)\u001B[0m\u001B[1;33m\u001B[0m\u001B[1;33m\u001B[0m\u001B[0m\n",
      "\u001B[1;31mNameError\u001B[0m: name 'x0' is not defined"
     ]
    }
   ],
   "source": [
    "assert np.allclose(x0@S@x0, 4.732436977583595)\n",
    "assert np.allclose(x1@S@x1, 2.5110809296451233)"
   ]
  },
  {
   "cell_type": "markdown",
   "metadata": {},
   "source": [
    "### Visualization (2 points)"
   ]
  },
  {
   "cell_type": "markdown",
   "metadata": {},
   "source": [
    "Visualize the points after applying custom dimension reduction with 2 components."
   ]
  },
  {
   "cell_type": "markdown",
   "metadata": {},
   "source": [
    "## Exercise 5 - Boruta (3 points)\n",
    "\n",
    "Let us classify handwritten digits 0, 1 and 2. \n",
    "To make task not so easy the images are binarized (no shadows of gray present) as it happens with xerocopied documents.\n",
    "\n",
    "Let us also find out to which parts of an image there's no need to look in order to clasify three digits of interest."
   ]
  },
  {
   "cell_type": "code",
   "execution_count": 79,
   "metadata": {},
   "outputs": [],
   "source": [
    "X, y = load_digits(n_class=3, return_X_y=True, as_frame=True)\n",
    "X = (X>10).astype(int)"
   ]
  },
  {
   "cell_type": "code",
   "execution_count": 80,
   "metadata": {},
   "outputs": [
    {
     "data": {
      "text/plain": "<Figure size 720x288 with 3 Axes>",
      "image/png": "[encoded data removed]"
     },
     "metadata": {},
     "output_type": "display_data"
    }
   ],
   "source": [
    "f, ax = plt.subplots(1,3,figsize=(10,4))\n",
    "for i in range(3):\n",
    "    ax[i].imshow(X.iloc[i].values.reshape(8,8))\n",
    "    ax[i].set_title(f\"This is digit {y[i]}.\")\n",
    "plt.suptitle(\"First three images.\")\n",
    "plt.show()"
   ]
  },
  {
   "cell_type": "markdown",
   "metadata": {},
   "source": [
    "Split data into train and test, let test size be 30% of the dataset and fix random state to 42:"
   ]
  },
  {
   "cell_type": "code",
   "execution_count": 81,
   "metadata": {},
   "outputs": [],
   "source": [
    "X_train, X_val, y_train, y_val = train_test_split(X, y, test_size=0.3, random_state=42)"
   ]
  },
  {
   "cell_type": "code",
   "execution_count": 82,
   "metadata": {},
   "outputs": [],
   "source": [
    "assert y_val.shape[0] == 162\n",
    "assert y_val.sum() == 169"
   ]
  },
  {
   "cell_type": "markdown",
   "metadata": {},
   "source": [
    "Fit a RandomForestClassifier with max_depth=13 and evaluate it's performance:"
   ]
  },
  {
   "cell_type": "code",
   "execution_count": 83,
   "metadata": {},
   "outputs": [
    {
     "name": "stdout",
     "output_type": "stream",
     "text": [
      "0.9876543209876543\n"
     ]
    }
   ],
   "source": [
    "clf = RandomForestClassifier(max_depth=13)\n",
    "\n",
    "clf.fit(X_train, y_train)\n",
    "pred = clf.predict(X_val)\n",
    "\n",
    "acc = accuracy_score(pred, y_val)\n",
    "print(acc)"
   ]
  },
  {
   "cell_type": "code",
   "execution_count": 84,
   "metadata": {},
   "outputs": [],
   "source": [
    "assert acc > 0.98"
   ]
  },
  {
   "cell_type": "markdown",
   "metadata": {},
   "source": [
    "Now we will use Boruta to find redundand pixels. If the package is not installed in your system, uncomment and run the following cell."
   ]
  },
  {
   "cell_type": "code",
   "execution_count": 85,
   "metadata": {},
   "outputs": [],
   "source": [
    "# ! pip install boruta"
   ]
  },
  {
   "cell_type": "code",
   "execution_count": 86,
   "metadata": {},
   "outputs": [],
   "source": [
    "from boruta import BorutaPy\n",
    "\n",
    "feat_selector = BorutaPy(RandomForestClassifier(max_depth=13),\n",
    "                         n_estimators='auto', \n",
    "                         verbose=0, \n",
    "                         max_iter=100,\n",
    "                         random_state=42)\n",
    "\n",
    "feat_selector.fit(X_train.values, y_train)\n",
    "X_trainb = feat_selector.transform(X_train.values)\n",
    "X_testb = feat_selector.transform(X_val.values)"
   ]
  },
  {
   "cell_type": "markdown",
   "metadata": {},
   "source": [
    "Let us print redundant pixels as a mask. Does the result looks similar to mine (or to Among us chracters)? "
   ]
  },
  {
   "cell_type": "code",
   "execution_count": 87,
   "metadata": {},
   "outputs": [
    {
     "data": {
      "text/plain": "<Figure size 432x288 with 1 Axes>",
      "image/png": "[encoded data removed]"
     },
     "metadata": {},
     "output_type": "display_data"
    }
   ],
   "source": [
    "mask = np.array(feat_selector.support_).reshape(8,8)\n",
    "plt.imshow(mask);"
   ]
  },
  {
   "cell_type": "markdown",
   "metadata": {},
   "source": [
    "At the end let us redo  classification but only with selected features"
   ]
  },
  {
   "cell_type": "code",
   "execution_count": 88,
   "metadata": {},
   "outputs": [
    {
     "name": "stdout",
     "output_type": "stream",
     "text": [
      "0.9938271604938271\n"
     ]
    }
   ],
   "source": [
    "clf = RandomForestClassifier(max_depth=13)\n",
    "\n",
    "clf.fit(X_trainb, y_train)\n",
    "pred = clf.predict(X_testb)\n",
    "\n",
    "acc = accuracy_score(pred, y_val)\n",
    "print(acc)"
   ]
  },
  {
   "cell_type": "code",
   "execution_count": 89,
   "metadata": {},
   "outputs": [],
   "source": [
    "assert acc > 0.99"
   ]
  },
  {
   "cell_type": "markdown",
   "metadata": {},
   "source": [
    "# Materials & References"
   ]
  },
  {
   "cell_type": "markdown",
   "metadata": {},
   "source": [
    "1. General article about feature engineering and selection (main reference):\n",
    "https://github.com/Yorko/mlcourse.ai/blob/master/jupyter_english/topic06_features_regression/topic6_feature_engineering_feature_selection.ipynb\n",
    "\n",
    "2. Feature engineering/preprocessing, using scikit-learn API (great code examples, but really brief explanation):    \n",
    "https://scikit-learn.org/stable/modules/preprocessing\n",
    "\n",
    "3. Feature scaling/normalization:     \n",
    "https://towardsdatascience.com/all-about-feature-scaling-bcc0ad75cb35\n",
    "\n",
    "4. Log Transform/power transform:    \n",
    "https://medium.com/@kyawsawhtoon/log-transformation-purpose-and-interpretation-9444b4b049c9\n",
    "\n",
    "6. Missing values preprocessing using scikit-learn API (great code examples, great explanation):    \n",
    "https://scikit-learn.org/stable/modules/impute.html\n",
    "\n",
    "7. Feature selection scikit-learn API (great code examples, great explanation):   \n",
    "https://scikit-learn.org/stable/modules/feature_selection.html\n",
    "\n",
    "8. Melbourne housing dataset source:    \n",
    "https://www.kaggle.com/anthonypino/melbourne-housing-market"
   ]
  }
 ],
 "metadata": {
  "kernelspec": {
   "display_name": "Python 3 (ipykernel)",
   "language": "python",
   "name": "python3"
  },
  "language_info": {
   "codemirror_mode": {
    "name": "ipython",
    "version": 3
   },
   "file_extension": ".py",
   "mimetype": "text/x-python",
   "name": "python",
   "nbconvert_exporter": "python",
   "pygments_lexer": "ipython3",
   "version": "3.9.7"
  },
  "toc": {
   "base_numbering": "1",
   "nav_menu": {},
   "number_sections": true,
   "sideBar": true,
   "skip_h1_title": false,
   "title_cell": "Table of Contents",
   "title_sidebar": "Contents",
   "toc_cell": false,
   "toc_position": {
    "height": "calc(100% - 180px)",
    "left": "10px",
    "top": "150px",
    "width": "165px"
   },
   "toc_section_display": true,
   "toc_window_display": true
  }
 },
 "nbformat": 4,
 "nbformat_minor": 4
}